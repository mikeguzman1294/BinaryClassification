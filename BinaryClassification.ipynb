{
  "nbformat": 4,
  "nbformat_minor": 0,
  "metadata": {
    "colab": {
      "provenance": [],
      "toc_visible": true,
      "authorship_tag": "ABX9TyOfrjBH/hG3SKZ2DAbYwLLQ",
      "include_colab_link": true
    },
    "kernelspec": {
      "name": "python3",
      "display_name": "Python 3"
    },
    "language_info": {
      "name": "python"
    }
  },
  "cells": [
    {
      "cell_type": "markdown",
      "metadata": {
        "id": "view-in-github",
        "colab_type": "text"
      },
      "source": [
        "<a href=\"https://colab.research.google.com/github/mikeguzman1294/BinaryClassification/blob/main/BinaryClassification.ipynb\" target=\"_parent\"><img src=\"https://colab.research.google.com/assets/colab-badge.svg\" alt=\"Open In Colab\"/></a>"
      ]
    },
    {
      "cell_type": "markdown",
      "source": [
        "# Code Challenge - Binary Classification\n",
        "***\n",
        "*Author: Miguel Ángel Guzmán Sánchez*\n",
        "***\n",
        "Contact regarding the code: mikeguzman1294@gmail.com\n",
        "***"
      ],
      "metadata": {
        "id": "kAYcV85QHPD-"
      }
    },
    {
      "cell_type": "markdown",
      "source": [
        "This notebooks solves a Binary Classification task given 2 tabular datasets.\n",
        "\n",
        "This notebook is divided in 5 main sections.\n",
        "\n",
        "\n",
        "\n",
        "1.   **Environment Setup**\n",
        "2.   **Exploratory Data Analysis**\n",
        "3.   **Data Preprocessing**\n",
        "4.   **Classification Modelling**\n",
        "5.   **Concluding Remarks**\n",
        "\n",
        "[Datasets Location](https://github.com/mikeguzman1294/BinaryClassification/tree/main/Datasets)\n",
        "\n",
        "[Technical Report Documentation](https://github.com/mikeguzman1294/BinaryClassification/tree/main/Documentation)"
      ],
      "metadata": {
        "id": "n1RGAh0P52my"
      }
    },
    {
      "cell_type": "markdown",
      "source": [
        "## Prepare the Environment"
      ],
      "metadata": {
        "id": "OeX9MJX0bxYk"
      }
    },
    {
      "cell_type": "markdown",
      "source": [
        "### Import Libraries"
      ],
      "metadata": {
        "id": "u1bImQZfiI70"
      }
    },
    {
      "cell_type": "markdown",
      "source": [
        "General Use Libraries"
      ],
      "metadata": {
        "id": "cdXiZNTkKTu3"
      }
    },
    {
      "cell_type": "code",
      "source": [
        "# Import useful libraries\n",
        "\n",
        "import random\n",
        "import pandas as pd\n",
        "import matplotlib.pyplot as plt\n",
        "import seaborn as sns \n",
        "import numpy as np\n",
        "import scipy as sp\n",
        "from IPython.display import Image"
      ],
      "metadata": {
        "id": "U1ybhTITdJa0"
      },
      "execution_count": 184,
      "outputs": []
    },
    {
      "cell_type": "markdown",
      "source": [
        "Scikit-Learn Libraries"
      ],
      "metadata": {
        "id": "qlT9tYH-KW-v"
      }
    },
    {
      "cell_type": "code",
      "source": [
        "# Data Preprocessing Tools\n",
        "\n",
        "from sklearn.impute import SimpleImputer\n",
        "from sklearn.compose import ColumnTransformer\n",
        "from sklearn.preprocessing import OneHotEncoder\n",
        "from sklearn.model_selection import train_test_split\n",
        "from sklearn.preprocessing import LabelEncoder\n",
        "from sklearn.preprocessing import StandardScaler"
      ],
      "metadata": {
        "id": "_Kcp5FkUKWiH"
      },
      "execution_count": 185,
      "outputs": []
    },
    {
      "cell_type": "code",
      "source": [
        "# Predictive Models\n",
        "\n",
        "from sklearn.ensemble import RandomForestClassifier\n",
        "from xgboost import XGBClassifier\n",
        "from sklearn.svm import SVC\n",
        "from sklearn.tree import DecisionTreeClassifier\n",
        "\n",
        "# Model Selection\n",
        "\n",
        "from sklearn.model_selection import GridSearchCV\n",
        "from sklearn.model_selection import RandomizedSearchCV"
      ],
      "metadata": {
        "id": "bm4ONGkMaiEN"
      },
      "execution_count": 186,
      "outputs": []
    },
    {
      "cell_type": "code",
      "source": [
        "# Handle Imbalanced Dataset\n",
        "\n",
        "from imblearn.over_sampling import RandomOverSampler, SMOTE\n",
        "from imblearn.under_sampling import RandomUnderSampler"
      ],
      "metadata": {
        "id": "lH4J6pEvJgpO"
      },
      "execution_count": 187,
      "outputs": []
    },
    {
      "cell_type": "code",
      "source": [
        "# Performance Metrics\n",
        "\n",
        "from sklearn.metrics import confusion_matrix, accuracy_score\n",
        "from sklearn.metrics import precision_score, recall_score, f1_score\n",
        "from sklearn.metrics import classification_report, ConfusionMatrixDisplay"
      ],
      "metadata": {
        "id": "f4x2XraOzJLL"
      },
      "execution_count": 188,
      "outputs": []
    },
    {
      "cell_type": "markdown",
      "source": [
        "### Import the Data"
      ],
      "metadata": {
        "id": "K8Ydci-siSU7"
      }
    },
    {
      "cell_type": "markdown",
      "source": [
        "Clone repository containing the data."
      ],
      "metadata": {
        "id": "lzTZxbiVnbN9"
      }
    },
    {
      "cell_type": "code",
      "source": [
        "# Clone the repo containing the raw data\n",
        "\n",
        "!git clone -l -s https://github.com/mikeguzman1294/BinaryClassification.git cloned-repo"
      ],
      "metadata": {
        "colab": {
          "base_uri": "https://localhost:8080/"
        },
        "id": "Xp8rWiuRrTBt",
        "outputId": "cc296e76-2c9f-4697-f4b5-bc4870f9da52"
      },
      "execution_count": 189,
      "outputs": [
        {
          "output_type": "stream",
          "name": "stdout",
          "text": [
            "Cloning into 'cloned-repo'...\n",
            "warning: --local is ignored\n",
            "remote: Enumerating objects: 16, done.\u001b[K\n",
            "remote: Counting objects:   6% (1/16)\u001b[K\rremote: Counting objects:  12% (2/16)\u001b[K\rremote: Counting objects:  18% (3/16)\u001b[K\rremote: Counting objects:  25% (4/16)\u001b[K\rremote: Counting objects:  31% (5/16)\u001b[K\rremote: Counting objects:  37% (6/16)\u001b[K\rremote: Counting objects:  43% (7/16)\u001b[K\rremote: Counting objects:  50% (8/16)\u001b[K\rremote: Counting objects:  56% (9/16)\u001b[K\rremote: Counting objects:  62% (10/16)\u001b[K\rremote: Counting objects:  68% (11/16)\u001b[K\rremote: Counting objects:  75% (12/16)\u001b[K\rremote: Counting objects:  81% (13/16)\u001b[K\rremote: Counting objects:  87% (14/16)\u001b[K\rremote: Counting objects:  93% (15/16)\u001b[K\rremote: Counting objects: 100% (16/16)\u001b[K\rremote: Counting objects: 100% (16/16), done.\u001b[K\n",
            "remote: Compressing objects:   7% (1/14)\u001b[K\rremote: Compressing objects:  14% (2/14)\u001b[K\rremote: Compressing objects:  21% (3/14)\u001b[K\rremote: Compressing objects:  28% (4/14)\u001b[K\rremote: Compressing objects:  35% (5/14)\u001b[K\rremote: Compressing objects:  42% (6/14)\u001b[K\rremote: Compressing objects:  50% (7/14)\u001b[K\rremote: Compressing objects:  57% (8/14)\u001b[K\rremote: Compressing objects:  64% (9/14)\u001b[K\rremote: Compressing objects:  71% (10/14)\u001b[K\rremote: Compressing objects:  78% (11/14)\u001b[K\rremote: Compressing objects:  85% (12/14)\u001b[K\rremote: Compressing objects:  92% (13/14)\u001b[K\rremote: Compressing objects: 100% (14/14)\u001b[K\rremote: Compressing objects: 100% (14/14), done.\u001b[K\n",
            "remote: Total 16 (delta 3), reused 8 (delta 2), pack-reused 0\u001b[K\n",
            "Unpacking objects: 100% (16/16), 98.08 KiB | 2.18 MiB/s, done.\n"
          ]
        }
      ]
    },
    {
      "cell_type": "code",
      "source": [
        "# Move to the relative path containing the cloned repo's data\n",
        "\n",
        "%cd cloned-repo/Datasets\n",
        "!ls"
      ],
      "metadata": {
        "colab": {
          "base_uri": "https://localhost:8080/"
        },
        "id": "rV--Ff6vn3cc",
        "outputId": "ddb92d2a-1208-4467-f5c6-d2e9ec0a3327"
      },
      "execution_count": 190,
      "outputs": [
        {
          "output_type": "stream",
          "name": "stdout",
          "text": [
            "/content/cloned-repo/Datasets/cloned-repo/Datasets/cloned-repo/Datasets\n",
            "Task1_1.csv  Task1_2.csv\n"
          ]
        }
      ]
    },
    {
      "cell_type": "markdown",
      "source": [
        "Convert the dataset files into Pandas Dataframes."
      ],
      "metadata": {
        "id": "x3dj7-cdiaoM"
      }
    },
    {
      "cell_type": "markdown",
      "source": [
        "**DataFrame 1** : *Task 1_1*"
      ],
      "metadata": {
        "id": "DfTKlc7dim2V"
      }
    },
    {
      "cell_type": "code",
      "source": [
        "# Convert csv into Pandas Dataframe\n",
        "raw_df_1 = pd.read_csv('Task1_1.csv', sep=\";\")"
      ],
      "metadata": {
        "id": "89MKiS7Xdril"
      },
      "execution_count": 191,
      "outputs": []
    },
    {
      "cell_type": "markdown",
      "source": [
        "**DataFrame 2** : *Task 1_2*"
      ],
      "metadata": {
        "id": "DTjPM8f3jBtz"
      }
    },
    {
      "cell_type": "code",
      "source": [
        "# Convert csv into Pandas Dataframe\n",
        "raw_df_2 = pd.read_csv('Task1_2.csv', sep=\";\")"
      ],
      "metadata": {
        "id": "r23QMIOYeCWt"
      },
      "execution_count": 192,
      "outputs": []
    },
    {
      "cell_type": "markdown",
      "source": [
        "## Exploratory Data Analysis"
      ],
      "metadata": {
        "id": "wx_qCg11dfgd"
      }
    },
    {
      "cell_type": "markdown",
      "source": [
        "### TASK 1 - Analysis"
      ],
      "metadata": {
        "id": "51YlxB51vTlF"
      }
    },
    {
      "cell_type": "markdown",
      "source": [
        "Explore the first 10 instances of Task 1."
      ],
      "metadata": {
        "id": "ELHMP-9SoQW-"
      }
    },
    {
      "cell_type": "code",
      "source": [
        "# Check the head as a sanity check of correct loading of the data\n",
        "raw_df_1.head(10)"
      ],
      "metadata": {
        "colab": {
          "base_uri": "https://localhost:8080/",
          "height": 363
        },
        "id": "bxUhxLvdoQ1_",
        "outputId": "acc725f0-3dcb-4f9c-917b-916f328447d9"
      },
      "execution_count": 193,
      "outputs": [
        {
          "output_type": "execute_result",
          "data": {
            "text/plain": [
              "   ID  UKL  GJAH  ZIK   HUI   ERZ    CDx BJZHD  NKJUD        LPI  BJKG\n",
              "0   0  160  oooo    x  oooo   www    5.0  vvvv   80.0   800000.0  qqqq\n",
              "1   1  153   rrr  NaN   uuu  pppp    0.0   mmm  200.0  2000000.0  qqqq\n",
              "2   2    5  oooo    x  oooo   www   19.0    hh   96.0   960000.0    hh\n",
              "3   3    9  oooo  NaN  oooo   www  120.0   kkk    0.0        0.0   qqq\n",
              "4   4   40  oooo    y  oooo   www    0.0   mmm  232.0  2320000.0  qqqq\n",
              "5   5    8   rrr    y  oooo  pppp    0.0   kkk  160.0  1600000.0  hhhh\n",
              "6   6  152  oooo  NaN  oooo   www    1.0   lll  276.0  2760000.0   lll\n",
              "7   7  176   rrr  NaN  oooo  pppp  204.0  vvvv  280.0  2800000.0  hhhh\n",
              "8   8  154  oooo  NaN  oooo   www  140.0  vvvv  220.0  2200000.0  qqqq\n",
              "9   9   95  oooo  NaN  oooo   www   13.0  vvvv  320.0  3200000.0  hhhh"
            ],
            "text/html": [
              "\n",
              "  <div id=\"df-323aa73e-6822-4b1c-8842-7175cec0b93f\">\n",
              "    <div class=\"colab-df-container\">\n",
              "      <div>\n",
              "<style scoped>\n",
              "    .dataframe tbody tr th:only-of-type {\n",
              "        vertical-align: middle;\n",
              "    }\n",
              "\n",
              "    .dataframe tbody tr th {\n",
              "        vertical-align: top;\n",
              "    }\n",
              "\n",
              "    .dataframe thead th {\n",
              "        text-align: right;\n",
              "    }\n",
              "</style>\n",
              "<table border=\"1\" class=\"dataframe\">\n",
              "  <thead>\n",
              "    <tr style=\"text-align: right;\">\n",
              "      <th></th>\n",
              "      <th>ID</th>\n",
              "      <th>UKL</th>\n",
              "      <th>GJAH</th>\n",
              "      <th>ZIK</th>\n",
              "      <th>HUI</th>\n",
              "      <th>ERZ</th>\n",
              "      <th>CDx</th>\n",
              "      <th>BJZHD</th>\n",
              "      <th>NKJUD</th>\n",
              "      <th>LPI</th>\n",
              "      <th>BJKG</th>\n",
              "    </tr>\n",
              "  </thead>\n",
              "  <tbody>\n",
              "    <tr>\n",
              "      <th>0</th>\n",
              "      <td>0</td>\n",
              "      <td>160</td>\n",
              "      <td>oooo</td>\n",
              "      <td>x</td>\n",
              "      <td>oooo</td>\n",
              "      <td>www</td>\n",
              "      <td>5.0</td>\n",
              "      <td>vvvv</td>\n",
              "      <td>80.0</td>\n",
              "      <td>800000.0</td>\n",
              "      <td>qqqq</td>\n",
              "    </tr>\n",
              "    <tr>\n",
              "      <th>1</th>\n",
              "      <td>1</td>\n",
              "      <td>153</td>\n",
              "      <td>rrr</td>\n",
              "      <td>NaN</td>\n",
              "      <td>uuu</td>\n",
              "      <td>pppp</td>\n",
              "      <td>0.0</td>\n",
              "      <td>mmm</td>\n",
              "      <td>200.0</td>\n",
              "      <td>2000000.0</td>\n",
              "      <td>qqqq</td>\n",
              "    </tr>\n",
              "    <tr>\n",
              "      <th>2</th>\n",
              "      <td>2</td>\n",
              "      <td>5</td>\n",
              "      <td>oooo</td>\n",
              "      <td>x</td>\n",
              "      <td>oooo</td>\n",
              "      <td>www</td>\n",
              "      <td>19.0</td>\n",
              "      <td>hh</td>\n",
              "      <td>96.0</td>\n",
              "      <td>960000.0</td>\n",
              "      <td>hh</td>\n",
              "    </tr>\n",
              "    <tr>\n",
              "      <th>3</th>\n",
              "      <td>3</td>\n",
              "      <td>9</td>\n",
              "      <td>oooo</td>\n",
              "      <td>NaN</td>\n",
              "      <td>oooo</td>\n",
              "      <td>www</td>\n",
              "      <td>120.0</td>\n",
              "      <td>kkk</td>\n",
              "      <td>0.0</td>\n",
              "      <td>0.0</td>\n",
              "      <td>qqq</td>\n",
              "    </tr>\n",
              "    <tr>\n",
              "      <th>4</th>\n",
              "      <td>4</td>\n",
              "      <td>40</td>\n",
              "      <td>oooo</td>\n",
              "      <td>y</td>\n",
              "      <td>oooo</td>\n",
              "      <td>www</td>\n",
              "      <td>0.0</td>\n",
              "      <td>mmm</td>\n",
              "      <td>232.0</td>\n",
              "      <td>2320000.0</td>\n",
              "      <td>qqqq</td>\n",
              "    </tr>\n",
              "    <tr>\n",
              "      <th>5</th>\n",
              "      <td>5</td>\n",
              "      <td>8</td>\n",
              "      <td>rrr</td>\n",
              "      <td>y</td>\n",
              "      <td>oooo</td>\n",
              "      <td>pppp</td>\n",
              "      <td>0.0</td>\n",
              "      <td>kkk</td>\n",
              "      <td>160.0</td>\n",
              "      <td>1600000.0</td>\n",
              "      <td>hhhh</td>\n",
              "    </tr>\n",
              "    <tr>\n",
              "      <th>6</th>\n",
              "      <td>6</td>\n",
              "      <td>152</td>\n",
              "      <td>oooo</td>\n",
              "      <td>NaN</td>\n",
              "      <td>oooo</td>\n",
              "      <td>www</td>\n",
              "      <td>1.0</td>\n",
              "      <td>lll</td>\n",
              "      <td>276.0</td>\n",
              "      <td>2760000.0</td>\n",
              "      <td>lll</td>\n",
              "    </tr>\n",
              "    <tr>\n",
              "      <th>7</th>\n",
              "      <td>7</td>\n",
              "      <td>176</td>\n",
              "      <td>rrr</td>\n",
              "      <td>NaN</td>\n",
              "      <td>oooo</td>\n",
              "      <td>pppp</td>\n",
              "      <td>204.0</td>\n",
              "      <td>vvvv</td>\n",
              "      <td>280.0</td>\n",
              "      <td>2800000.0</td>\n",
              "      <td>hhhh</td>\n",
              "    </tr>\n",
              "    <tr>\n",
              "      <th>8</th>\n",
              "      <td>8</td>\n",
              "      <td>154</td>\n",
              "      <td>oooo</td>\n",
              "      <td>NaN</td>\n",
              "      <td>oooo</td>\n",
              "      <td>www</td>\n",
              "      <td>140.0</td>\n",
              "      <td>vvvv</td>\n",
              "      <td>220.0</td>\n",
              "      <td>2200000.0</td>\n",
              "      <td>qqqq</td>\n",
              "    </tr>\n",
              "    <tr>\n",
              "      <th>9</th>\n",
              "      <td>9</td>\n",
              "      <td>95</td>\n",
              "      <td>oooo</td>\n",
              "      <td>NaN</td>\n",
              "      <td>oooo</td>\n",
              "      <td>www</td>\n",
              "      <td>13.0</td>\n",
              "      <td>vvvv</td>\n",
              "      <td>320.0</td>\n",
              "      <td>3200000.0</td>\n",
              "      <td>hhhh</td>\n",
              "    </tr>\n",
              "  </tbody>\n",
              "</table>\n",
              "</div>\n",
              "      <button class=\"colab-df-convert\" onclick=\"convertToInteractive('df-323aa73e-6822-4b1c-8842-7175cec0b93f')\"\n",
              "              title=\"Convert this dataframe to an interactive table.\"\n",
              "              style=\"display:none;\">\n",
              "        \n",
              "  <svg xmlns=\"http://www.w3.org/2000/svg\" height=\"24px\"viewBox=\"0 0 24 24\"\n",
              "       width=\"24px\">\n",
              "    <path d=\"M0 0h24v24H0V0z\" fill=\"none\"/>\n",
              "    <path d=\"M18.56 5.44l.94 2.06.94-2.06 2.06-.94-2.06-.94-.94-2.06-.94 2.06-2.06.94zm-11 1L8.5 8.5l.94-2.06 2.06-.94-2.06-.94L8.5 2.5l-.94 2.06-2.06.94zm10 10l.94 2.06.94-2.06 2.06-.94-2.06-.94-.94-2.06-.94 2.06-2.06.94z\"/><path d=\"M17.41 7.96l-1.37-1.37c-.4-.4-.92-.59-1.43-.59-.52 0-1.04.2-1.43.59L10.3 9.45l-7.72 7.72c-.78.78-.78 2.05 0 2.83L4 21.41c.39.39.9.59 1.41.59.51 0 1.02-.2 1.41-.59l7.78-7.78 2.81-2.81c.8-.78.8-2.07 0-2.86zM5.41 20L4 18.59l7.72-7.72 1.47 1.35L5.41 20z\"/>\n",
              "  </svg>\n",
              "      </button>\n",
              "      \n",
              "  <style>\n",
              "    .colab-df-container {\n",
              "      display:flex;\n",
              "      flex-wrap:wrap;\n",
              "      gap: 12px;\n",
              "    }\n",
              "\n",
              "    .colab-df-convert {\n",
              "      background-color: #E8F0FE;\n",
              "      border: none;\n",
              "      border-radius: 50%;\n",
              "      cursor: pointer;\n",
              "      display: none;\n",
              "      fill: #1967D2;\n",
              "      height: 32px;\n",
              "      padding: 0 0 0 0;\n",
              "      width: 32px;\n",
              "    }\n",
              "\n",
              "    .colab-df-convert:hover {\n",
              "      background-color: #E2EBFA;\n",
              "      box-shadow: 0px 1px 2px rgba(60, 64, 67, 0.3), 0px 1px 3px 1px rgba(60, 64, 67, 0.15);\n",
              "      fill: #174EA6;\n",
              "    }\n",
              "\n",
              "    [theme=dark] .colab-df-convert {\n",
              "      background-color: #3B4455;\n",
              "      fill: #D2E3FC;\n",
              "    }\n",
              "\n",
              "    [theme=dark] .colab-df-convert:hover {\n",
              "      background-color: #434B5C;\n",
              "      box-shadow: 0px 1px 3px 1px rgba(0, 0, 0, 0.15);\n",
              "      filter: drop-shadow(0px 1px 2px rgba(0, 0, 0, 0.3));\n",
              "      fill: #FFFFFF;\n",
              "    }\n",
              "  </style>\n",
              "\n",
              "      <script>\n",
              "        const buttonEl =\n",
              "          document.querySelector('#df-323aa73e-6822-4b1c-8842-7175cec0b93f button.colab-df-convert');\n",
              "        buttonEl.style.display =\n",
              "          google.colab.kernel.accessAllowed ? 'block' : 'none';\n",
              "\n",
              "        async function convertToInteractive(key) {\n",
              "          const element = document.querySelector('#df-323aa73e-6822-4b1c-8842-7175cec0b93f');\n",
              "          const dataTable =\n",
              "            await google.colab.kernel.invokeFunction('convertToInteractive',\n",
              "                                                     [key], {});\n",
              "          if (!dataTable) return;\n",
              "\n",
              "          const docLinkHtml = 'Like what you see? Visit the ' +\n",
              "            '<a target=\"_blank\" href=https://colab.research.google.com/notebooks/data_table.ipynb>data table notebook</a>'\n",
              "            + ' to learn more about interactive tables.';\n",
              "          element.innerHTML = '';\n",
              "          dataTable['output_type'] = 'display_data';\n",
              "          await google.colab.output.renderOutput(dataTable, element);\n",
              "          const docLink = document.createElement('div');\n",
              "          docLink.innerHTML = docLinkHtml;\n",
              "          element.appendChild(docLink);\n",
              "        }\n",
              "      </script>\n",
              "    </div>\n",
              "  </div>\n",
              "  "
            ]
          },
          "metadata": {},
          "execution_count": 193
        }
      ]
    },
    {
      "cell_type": "markdown",
      "source": [
        "Get an overall insight on Task 1 dataframe content."
      ],
      "metadata": {
        "id": "fKVoBoUkhu1e"
      }
    },
    {
      "cell_type": "code",
      "source": [
        "# Get the shape of the dataframe\n",
        "print(f'Dataset shape:\\n{raw_df_1.shape}\\n')\n",
        "\n",
        "# Get the names of the attributes\n",
        "print(f'Dataset attributes:\\n{raw_df_1.columns}\\n')\n",
        "\n",
        "# Get the overall description of the dataset with the data types\n",
        "print(f'Dataset general information:\\n{raw_df_1.info()}\\n')\n",
        "\n",
        "# Get description of numerical attributes\n",
        "print(f'Dataset description:\\nNumerical Data\\n{raw_df_1.describe().transpose()}\\n')\n",
        "\n",
        "# Get description of categorical attributes\n",
        "print(f'Dataset description:\\nCategorical Data\\n{raw_df_1.describe(include = object).transpose()}')"
      ],
      "metadata": {
        "colab": {
          "base_uri": "https://localhost:8080/"
        },
        "id": "ty7MKqUWde-9",
        "outputId": "78853810-bdba-4ac5-9926-85b2a6af8f04"
      },
      "execution_count": 194,
      "outputs": [
        {
          "output_type": "stream",
          "name": "stdout",
          "text": [
            "Dataset shape:\n",
            "(4070, 11)\n",
            "\n",
            "Dataset attributes:\n",
            "Index(['ID', 'UKL', 'GJAH', 'ZIK', 'HUI', 'ERZ', 'CDx', 'BJZHD', 'NKJUD',\n",
            "       'LPI', 'BJKG'],\n",
            "      dtype='object')\n",
            "\n",
            "<class 'pandas.core.frame.DataFrame'>\n",
            "RangeIndex: 4070 entries, 0 to 4069\n",
            "Data columns (total 11 columns):\n",
            " #   Column  Non-Null Count  Dtype  \n",
            "---  ------  --------------  -----  \n",
            " 0   ID      4070 non-null   int64  \n",
            " 1   UKL     4070 non-null   int64  \n",
            " 2   GJAH    4006 non-null   object \n",
            " 3   ZIK     1705 non-null   object \n",
            " 4   HUI     4070 non-null   object \n",
            " 5   ERZ     4006 non-null   object \n",
            " 6   CDx     4070 non-null   float64\n",
            " 7   BJZHD   4004 non-null   object \n",
            " 8   NKJUD   3966 non-null   float64\n",
            " 9   LPI     3966 non-null   float64\n",
            " 10  BJKG    4004 non-null   object \n",
            "dtypes: float64(3), int64(2), object(6)\n",
            "memory usage: 349.9+ KB\n",
            "Dataset general information:\n",
            "None\n",
            "\n",
            "Dataset description:\n",
            "Numerical Data\n",
            "        count          mean           std  min     25%        50%         75%  \\\n",
            "ID     4070.0  1.842796e+03  1.070556e+03  0.0  907.25     1840.5     2774.75   \n",
            "UKL    4070.0  9.627027e+01  5.613106e+01  1.0   47.00      101.0      152.00   \n",
            "CDx    4070.0  2.322720e+03  9.104753e+03  0.0    0.00      134.0     1000.00   \n",
            "NKJUD  3966.0  1.625270e+02  1.549668e+02  0.0    0.00      120.0      280.00   \n",
            "LPI    3966.0  1.625270e+06  1.549668e+06  0.0    0.00  1200000.0  2800000.00   \n",
            "\n",
            "              max  \n",
            "ID         3699.0  \n",
            "UKL         179.0  \n",
            "CDx      100000.0  \n",
            "NKJUD      1160.0  \n",
            "LPI    11600000.0  \n",
            "\n",
            "Dataset description:\n",
            "Categorical Data\n",
            "      count unique   top  freq\n",
            "GJAH   4006      3  oooo  3361\n",
            "ZIK    1705      2     x  1115\n",
            "HUI    4070      3  oooo  3782\n",
            "ERZ    4006      3   www  3361\n",
            "BJZHD  4004     12  vvvv   861\n",
            "BJKG   4004      8  qqqq  2220\n"
          ]
        }
      ]
    },
    {
      "cell_type": "markdown",
      "source": [
        "Do a direct call for printing missing values."
      ],
      "metadata": {
        "id": "mCT-c1hBuaSo"
      }
    },
    {
      "cell_type": "code",
      "source": [
        "# Check for the percentage of missing values per feature\n",
        "print(f'Percentage of Null Values per Feature\\n{((raw_df_1.isnull().sum() / len(raw_df_1))) * 100}\\n')"
      ],
      "metadata": {
        "colab": {
          "base_uri": "https://localhost:8080/"
        },
        "id": "sbLxOUvXvFq_",
        "outputId": "ad319300-828c-4576-de67-a300d427f13d"
      },
      "execution_count": 195,
      "outputs": [
        {
          "output_type": "stream",
          "name": "stdout",
          "text": [
            "Percentage of Null Values per Feature\n",
            "ID        0.000000\n",
            "UKL       0.000000\n",
            "GJAH      1.572482\n",
            "ZIK      58.108108\n",
            "HUI       0.000000\n",
            "ERZ       1.572482\n",
            "CDx       0.000000\n",
            "BJZHD     1.621622\n",
            "NKJUD     2.555283\n",
            "LPI       2.555283\n",
            "BJKG      1.621622\n",
            "dtype: float64\n",
            "\n"
          ]
        }
      ]
    },
    {
      "cell_type": "markdown",
      "source": [
        "### TASK 2 - Analysis"
      ],
      "metadata": {
        "id": "OdElpUSNvdJu"
      }
    },
    {
      "cell_type": "markdown",
      "source": [
        "Explore the first 10 instances of Task 2."
      ],
      "metadata": {
        "id": "XeQcIiGDoiSQ"
      }
    },
    {
      "cell_type": "code",
      "source": [
        "# Check the head as a sanity check of correct loading of the data\n",
        "raw_df_2.head(10)"
      ],
      "metadata": {
        "colab": {
          "base_uri": "https://localhost:8080/",
          "height": 363
        },
        "id": "_g7cgfuboiSR",
        "outputId": "2906bf03-285c-402b-8329-cbaef2907810"
      },
      "execution_count": 196,
      "outputs": [
        {
          "output_type": "execute_result",
          "data": {
            "text/plain": [
              "   POUG    TRE  ID ZUB VOL   UIO VBNM Type    OIN\n",
              "0     1  1.750   0   t   f  uuuu    t    n  17.92\n",
              "1     0  0.290   1   f   f  wwww    f    n  16.92\n",
              "2     1  0.000   2   f   f  wwww    t    n  31.25\n",
              "3     0  0.335   3   f   f  uuuu    f    n  48.17\n",
              "4     0  0.500   4   t   f  wwww    f    n  32.33\n",
              "5     0  0.500   5   t   f  uuuu    f    n  34.83\n",
              "6     0  0.000   6   t   f  uuuu    f    n  26.17\n",
              "7     0  0.250   7   f   f  wwww    f    n  21.17\n",
              "8     0  0.290   8   f   f  wwww    f    n  28.92\n",
              "9     0  1.085   9   f   f  wwww    f    n  18.17"
            ],
            "text/html": [
              "\n",
              "  <div id=\"df-a5ae6229-fd6c-4466-816b-22d7690d1505\">\n",
              "    <div class=\"colab-df-container\">\n",
              "      <div>\n",
              "<style scoped>\n",
              "    .dataframe tbody tr th:only-of-type {\n",
              "        vertical-align: middle;\n",
              "    }\n",
              "\n",
              "    .dataframe tbody tr th {\n",
              "        vertical-align: top;\n",
              "    }\n",
              "\n",
              "    .dataframe thead th {\n",
              "        text-align: right;\n",
              "    }\n",
              "</style>\n",
              "<table border=\"1\" class=\"dataframe\">\n",
              "  <thead>\n",
              "    <tr style=\"text-align: right;\">\n",
              "      <th></th>\n",
              "      <th>POUG</th>\n",
              "      <th>TRE</th>\n",
              "      <th>ID</th>\n",
              "      <th>ZUB</th>\n",
              "      <th>VOL</th>\n",
              "      <th>UIO</th>\n",
              "      <th>VBNM</th>\n",
              "      <th>Type</th>\n",
              "      <th>OIN</th>\n",
              "    </tr>\n",
              "  </thead>\n",
              "  <tbody>\n",
              "    <tr>\n",
              "      <th>0</th>\n",
              "      <td>1</td>\n",
              "      <td>1.750</td>\n",
              "      <td>0</td>\n",
              "      <td>t</td>\n",
              "      <td>f</td>\n",
              "      <td>uuuu</td>\n",
              "      <td>t</td>\n",
              "      <td>n</td>\n",
              "      <td>17.92</td>\n",
              "    </tr>\n",
              "    <tr>\n",
              "      <th>1</th>\n",
              "      <td>0</td>\n",
              "      <td>0.290</td>\n",
              "      <td>1</td>\n",
              "      <td>f</td>\n",
              "      <td>f</td>\n",
              "      <td>wwww</td>\n",
              "      <td>f</td>\n",
              "      <td>n</td>\n",
              "      <td>16.92</td>\n",
              "    </tr>\n",
              "    <tr>\n",
              "      <th>2</th>\n",
              "      <td>1</td>\n",
              "      <td>0.000</td>\n",
              "      <td>2</td>\n",
              "      <td>f</td>\n",
              "      <td>f</td>\n",
              "      <td>wwww</td>\n",
              "      <td>t</td>\n",
              "      <td>n</td>\n",
              "      <td>31.25</td>\n",
              "    </tr>\n",
              "    <tr>\n",
              "      <th>3</th>\n",
              "      <td>0</td>\n",
              "      <td>0.335</td>\n",
              "      <td>3</td>\n",
              "      <td>f</td>\n",
              "      <td>f</td>\n",
              "      <td>uuuu</td>\n",
              "      <td>f</td>\n",
              "      <td>n</td>\n",
              "      <td>48.17</td>\n",
              "    </tr>\n",
              "    <tr>\n",
              "      <th>4</th>\n",
              "      <td>0</td>\n",
              "      <td>0.500</td>\n",
              "      <td>4</td>\n",
              "      <td>t</td>\n",
              "      <td>f</td>\n",
              "      <td>wwww</td>\n",
              "      <td>f</td>\n",
              "      <td>n</td>\n",
              "      <td>32.33</td>\n",
              "    </tr>\n",
              "    <tr>\n",
              "      <th>5</th>\n",
              "      <td>0</td>\n",
              "      <td>0.500</td>\n",
              "      <td>5</td>\n",
              "      <td>t</td>\n",
              "      <td>f</td>\n",
              "      <td>uuuu</td>\n",
              "      <td>f</td>\n",
              "      <td>n</td>\n",
              "      <td>34.83</td>\n",
              "    </tr>\n",
              "    <tr>\n",
              "      <th>6</th>\n",
              "      <td>0</td>\n",
              "      <td>0.000</td>\n",
              "      <td>6</td>\n",
              "      <td>t</td>\n",
              "      <td>f</td>\n",
              "      <td>uuuu</td>\n",
              "      <td>f</td>\n",
              "      <td>n</td>\n",
              "      <td>26.17</td>\n",
              "    </tr>\n",
              "    <tr>\n",
              "      <th>7</th>\n",
              "      <td>0</td>\n",
              "      <td>0.250</td>\n",
              "      <td>7</td>\n",
              "      <td>f</td>\n",
              "      <td>f</td>\n",
              "      <td>wwww</td>\n",
              "      <td>f</td>\n",
              "      <td>n</td>\n",
              "      <td>21.17</td>\n",
              "    </tr>\n",
              "    <tr>\n",
              "      <th>8</th>\n",
              "      <td>0</td>\n",
              "      <td>0.290</td>\n",
              "      <td>8</td>\n",
              "      <td>f</td>\n",
              "      <td>f</td>\n",
              "      <td>wwww</td>\n",
              "      <td>f</td>\n",
              "      <td>n</td>\n",
              "      <td>28.92</td>\n",
              "    </tr>\n",
              "    <tr>\n",
              "      <th>9</th>\n",
              "      <td>0</td>\n",
              "      <td>1.085</td>\n",
              "      <td>9</td>\n",
              "      <td>f</td>\n",
              "      <td>f</td>\n",
              "      <td>wwww</td>\n",
              "      <td>f</td>\n",
              "      <td>n</td>\n",
              "      <td>18.17</td>\n",
              "    </tr>\n",
              "  </tbody>\n",
              "</table>\n",
              "</div>\n",
              "      <button class=\"colab-df-convert\" onclick=\"convertToInteractive('df-a5ae6229-fd6c-4466-816b-22d7690d1505')\"\n",
              "              title=\"Convert this dataframe to an interactive table.\"\n",
              "              style=\"display:none;\">\n",
              "        \n",
              "  <svg xmlns=\"http://www.w3.org/2000/svg\" height=\"24px\"viewBox=\"0 0 24 24\"\n",
              "       width=\"24px\">\n",
              "    <path d=\"M0 0h24v24H0V0z\" fill=\"none\"/>\n",
              "    <path d=\"M18.56 5.44l.94 2.06.94-2.06 2.06-.94-2.06-.94-.94-2.06-.94 2.06-2.06.94zm-11 1L8.5 8.5l.94-2.06 2.06-.94-2.06-.94L8.5 2.5l-.94 2.06-2.06.94zm10 10l.94 2.06.94-2.06 2.06-.94-2.06-.94-.94-2.06-.94 2.06-2.06.94z\"/><path d=\"M17.41 7.96l-1.37-1.37c-.4-.4-.92-.59-1.43-.59-.52 0-1.04.2-1.43.59L10.3 9.45l-7.72 7.72c-.78.78-.78 2.05 0 2.83L4 21.41c.39.39.9.59 1.41.59.51 0 1.02-.2 1.41-.59l7.78-7.78 2.81-2.81c.8-.78.8-2.07 0-2.86zM5.41 20L4 18.59l7.72-7.72 1.47 1.35L5.41 20z\"/>\n",
              "  </svg>\n",
              "      </button>\n",
              "      \n",
              "  <style>\n",
              "    .colab-df-container {\n",
              "      display:flex;\n",
              "      flex-wrap:wrap;\n",
              "      gap: 12px;\n",
              "    }\n",
              "\n",
              "    .colab-df-convert {\n",
              "      background-color: #E8F0FE;\n",
              "      border: none;\n",
              "      border-radius: 50%;\n",
              "      cursor: pointer;\n",
              "      display: none;\n",
              "      fill: #1967D2;\n",
              "      height: 32px;\n",
              "      padding: 0 0 0 0;\n",
              "      width: 32px;\n",
              "    }\n",
              "\n",
              "    .colab-df-convert:hover {\n",
              "      background-color: #E2EBFA;\n",
              "      box-shadow: 0px 1px 2px rgba(60, 64, 67, 0.3), 0px 1px 3px 1px rgba(60, 64, 67, 0.15);\n",
              "      fill: #174EA6;\n",
              "    }\n",
              "\n",
              "    [theme=dark] .colab-df-convert {\n",
              "      background-color: #3B4455;\n",
              "      fill: #D2E3FC;\n",
              "    }\n",
              "\n",
              "    [theme=dark] .colab-df-convert:hover {\n",
              "      background-color: #434B5C;\n",
              "      box-shadow: 0px 1px 3px 1px rgba(0, 0, 0, 0.15);\n",
              "      filter: drop-shadow(0px 1px 2px rgba(0, 0, 0, 0.3));\n",
              "      fill: #FFFFFF;\n",
              "    }\n",
              "  </style>\n",
              "\n",
              "      <script>\n",
              "        const buttonEl =\n",
              "          document.querySelector('#df-a5ae6229-fd6c-4466-816b-22d7690d1505 button.colab-df-convert');\n",
              "        buttonEl.style.display =\n",
              "          google.colab.kernel.accessAllowed ? 'block' : 'none';\n",
              "\n",
              "        async function convertToInteractive(key) {\n",
              "          const element = document.querySelector('#df-a5ae6229-fd6c-4466-816b-22d7690d1505');\n",
              "          const dataTable =\n",
              "            await google.colab.kernel.invokeFunction('convertToInteractive',\n",
              "                                                     [key], {});\n",
              "          if (!dataTable) return;\n",
              "\n",
              "          const docLinkHtml = 'Like what you see? Visit the ' +\n",
              "            '<a target=\"_blank\" href=https://colab.research.google.com/notebooks/data_table.ipynb>data table notebook</a>'\n",
              "            + ' to learn more about interactive tables.';\n",
              "          element.innerHTML = '';\n",
              "          dataTable['output_type'] = 'display_data';\n",
              "          await google.colab.output.renderOutput(dataTable, element);\n",
              "          const docLink = document.createElement('div');\n",
              "          docLink.innerHTML = docLinkHtml;\n",
              "          element.appendChild(docLink);\n",
              "        }\n",
              "      </script>\n",
              "    </div>\n",
              "  </div>\n",
              "  "
            ]
          },
          "metadata": {},
          "execution_count": 196
        }
      ]
    },
    {
      "cell_type": "code",
      "source": [
        "# Get the shape of the dataframe\n",
        "print(f'Dataset shape:\\n{raw_df_2.shape}\\n')\n",
        "\n",
        "# Get the names of the attributes\n",
        "print(f'Dataset attributes:\\n{raw_df_2.columns}\\n')\n",
        "\n",
        "# Get the overall description of the dataset with the data types\n",
        "print(f'Dataset general information:\\n{raw_df_2.info()}\\n')\n",
        "\n",
        "# Get description of numerical attributes\n",
        "print(f'Dataset description:\\nNumerical Data\\n{raw_df_2.describe().transpose()}\\n')\n",
        "\n",
        "# Get description of categorical attributes\n",
        "print(f'Dataset description:\\nCategorical Data\\n{raw_df_2.describe(include = object).transpose()}')"
      ],
      "metadata": {
        "colab": {
          "base_uri": "https://localhost:8080/"
        },
        "id": "xmtm5LTKdfBo",
        "outputId": "43b30e56-3bed-405f-a6ab-ef6f2a10b7bd"
      },
      "execution_count": 197,
      "outputs": [
        {
          "output_type": "stream",
          "name": "stdout",
          "text": [
            "Dataset shape:\n",
            "(4070, 9)\n",
            "\n",
            "Dataset attributes:\n",
            "Index(['POUG', 'TRE', 'ID', 'ZUB', 'VOL', 'UIO', 'VBNM', 'Type', 'OIN'], dtype='object')\n",
            "\n",
            "<class 'pandas.core.frame.DataFrame'>\n",
            "RangeIndex: 4070 entries, 0 to 4069\n",
            "Data columns (total 9 columns):\n",
            " #   Column  Non-Null Count  Dtype  \n",
            "---  ------  --------------  -----  \n",
            " 0   POUG    4070 non-null   int64  \n",
            " 1   TRE     4070 non-null   float64\n",
            " 2   ID      4070 non-null   int64  \n",
            " 3   ZUB     4070 non-null   object \n",
            " 4   VOL     4070 non-null   object \n",
            " 5   UIO     4027 non-null   object \n",
            " 6   VBNM    4070 non-null   object \n",
            " 7   Type    4070 non-null   object \n",
            " 8   OIN     4028 non-null   float64\n",
            "dtypes: float64(2), int64(2), object(5)\n",
            "memory usage: 286.3+ KB\n",
            "Dataset general information:\n",
            "None\n",
            "\n",
            "Dataset description:\n",
            "Numerical Data\n",
            "       count         mean          std    min     25%      50%      75%  \\\n",
            "POUG  4070.0     4.141032     6.696288   0.00    0.00     2.00     6.00   \n",
            "TRE   4070.0     3.412081     4.322153   0.00    0.50     1.75     5.00   \n",
            "ID    4070.0  1848.971744  1067.311062   0.00  919.25  1852.50  2771.75   \n",
            "OIN   4028.0    32.837974    12.709425  13.75   22.92    28.67    40.83   \n",
            "\n",
            "          max  \n",
            "POUG    67.00  \n",
            "TRE     28.50  \n",
            "ID    3699.00  \n",
            "OIN     80.25  \n",
            "\n",
            "Dataset description:\n",
            "Categorical Data\n",
            "     count unique   top  freq\n",
            "ZUB   4070      2     f  2118\n",
            "VOL   4070      2     t  3488\n",
            "UIO   4027      2  wwww  2621\n",
            "VBNM  4070      2     t  2457\n",
            "Type  4070      2     y  3764\n"
          ]
        }
      ]
    },
    {
      "cell_type": "markdown",
      "source": [
        "Do a direct call for printing missing values."
      ],
      "metadata": {
        "id": "-7zJ8fsRvgQf"
      }
    },
    {
      "cell_type": "code",
      "source": [
        "# Check for the percentage of missing values per feature\n",
        "print(f'Percentage of Null Values per Feature\\n{((raw_df_2.isnull().sum() / len(raw_df_1))) * 100}\\n')"
      ],
      "metadata": {
        "colab": {
          "base_uri": "https://localhost:8080/"
        },
        "outputId": "36f6239d-f145-4a78-ce90-28e07365f79b",
        "id": "qYshUPQdvgQq"
      },
      "execution_count": 198,
      "outputs": [
        {
          "output_type": "stream",
          "name": "stdout",
          "text": [
            "Percentage of Null Values per Feature\n",
            "POUG    0.000000\n",
            "TRE     0.000000\n",
            "ID      0.000000\n",
            "ZUB     0.000000\n",
            "VOL     0.000000\n",
            "UIO     1.056511\n",
            "VBNM    0.000000\n",
            "Type    0.000000\n",
            "OIN     1.031941\n",
            "dtype: float64\n",
            "\n"
          ]
        }
      ]
    },
    {
      "cell_type": "markdown",
      "source": [
        "## Data Preprocessing"
      ],
      "metadata": {
        "id": "yYXOfOZNdQ6m"
      }
    },
    {
      "cell_type": "markdown",
      "source": [
        "Create copies fo the raw data before making transformations."
      ],
      "metadata": {
        "id": "P7_VmsGEiZef"
      }
    },
    {
      "cell_type": "code",
      "source": [
        "# Make a copy of the raw datasets to keep the original information untouched\n",
        "\n",
        "df_1 = raw_df_1.copy()\n",
        "df_2 = raw_df_2.copy()"
      ],
      "metadata": {
        "id": "usllYEZvioFm"
      },
      "execution_count": 199,
      "outputs": []
    },
    {
      "cell_type": "markdown",
      "source": [
        "### Sort DataFrames"
      ],
      "metadata": {
        "id": "i2JuszJ2-bT9"
      }
    },
    {
      "cell_type": "markdown",
      "source": [
        "Sort the DataFrames by ID column for agilizing insights."
      ],
      "metadata": {
        "id": "AlTMuZYJhLTv"
      }
    },
    {
      "cell_type": "code",
      "source": [
        "# Sort dataframes by ID in ascending order\n",
        "\n",
        "df_1 = df_1.sort_values(by=['ID'], ascending=True)\n",
        "df_2 = df_2.sort_values(by=['ID'], ascending=True)"
      ],
      "metadata": {
        "id": "5TAu8aFCje6P"
      },
      "execution_count": 200,
      "outputs": []
    },
    {
      "cell_type": "markdown",
      "source": [
        "Check both DataFrames after sorting."
      ],
      "metadata": {
        "id": "ZPcFmwBQmWoQ"
      }
    },
    {
      "cell_type": "code",
      "source": [
        "df_1"
      ],
      "metadata": {
        "colab": {
          "base_uri": "https://localhost:8080/",
          "height": 423
        },
        "id": "woFIVfeBmc6p",
        "outputId": "9369ad51-6c21-46ce-97ce-15d900b92bc4"
      },
      "execution_count": 201,
      "outputs": [
        {
          "output_type": "execute_result",
          "data": {
            "text/plain": [
              "        ID  UKL  GJAH  ZIK   HUI   ERZ      CDx BJZHD  NKJUD        LPI  BJKG\n",
              "0        0  160  oooo    x  oooo   www      5.0  vvvv   80.0   800000.0  qqqq\n",
              "1        1  153   rrr  NaN   uuu  pppp      0.0   mmm  200.0  2000000.0  qqqq\n",
              "2        2    5  oooo    x  oooo   www     19.0    hh   96.0   960000.0    hh\n",
              "3        3    9  oooo  NaN  oooo   www    120.0   kkk    0.0        0.0   qqq\n",
              "3850     4   40  oooo    y  oooo   www      0.0   mmm  232.0  2320000.0  qqqq\n",
              "...    ...  ...   ...  ...   ...   ...      ...   ...    ...        ...   ...\n",
              "3811  3695   74  oooo    x  oooo   www  26726.0   sss    NaN        NaN  qqqq\n",
              "3696  3696  179  oooo    x  oooo   www      0.0   sss  120.0  1200000.0  qqqq\n",
              "3697  3697   82  oooo  NaN  oooo   www    221.0  vvvv    0.0        0.0  qqqq\n",
              "3698  3698   13  oooo  NaN  oooo   www      3.0   yyy  100.0  1000000.0  qqqq\n",
              "3699  3699   57  oooo    y  oooo   www   4000.0   ggg    0.0        0.0  qqqq\n",
              "\n",
              "[4070 rows x 11 columns]"
            ],
            "text/html": [
              "\n",
              "  <div id=\"df-637a712e-9165-4198-8a6d-a9e9dc2afc12\">\n",
              "    <div class=\"colab-df-container\">\n",
              "      <div>\n",
              "<style scoped>\n",
              "    .dataframe tbody tr th:only-of-type {\n",
              "        vertical-align: middle;\n",
              "    }\n",
              "\n",
              "    .dataframe tbody tr th {\n",
              "        vertical-align: top;\n",
              "    }\n",
              "\n",
              "    .dataframe thead th {\n",
              "        text-align: right;\n",
              "    }\n",
              "</style>\n",
              "<table border=\"1\" class=\"dataframe\">\n",
              "  <thead>\n",
              "    <tr style=\"text-align: right;\">\n",
              "      <th></th>\n",
              "      <th>ID</th>\n",
              "      <th>UKL</th>\n",
              "      <th>GJAH</th>\n",
              "      <th>ZIK</th>\n",
              "      <th>HUI</th>\n",
              "      <th>ERZ</th>\n",
              "      <th>CDx</th>\n",
              "      <th>BJZHD</th>\n",
              "      <th>NKJUD</th>\n",
              "      <th>LPI</th>\n",
              "      <th>BJKG</th>\n",
              "    </tr>\n",
              "  </thead>\n",
              "  <tbody>\n",
              "    <tr>\n",
              "      <th>0</th>\n",
              "      <td>0</td>\n",
              "      <td>160</td>\n",
              "      <td>oooo</td>\n",
              "      <td>x</td>\n",
              "      <td>oooo</td>\n",
              "      <td>www</td>\n",
              "      <td>5.0</td>\n",
              "      <td>vvvv</td>\n",
              "      <td>80.0</td>\n",
              "      <td>800000.0</td>\n",
              "      <td>qqqq</td>\n",
              "    </tr>\n",
              "    <tr>\n",
              "      <th>1</th>\n",
              "      <td>1</td>\n",
              "      <td>153</td>\n",
              "      <td>rrr</td>\n",
              "      <td>NaN</td>\n",
              "      <td>uuu</td>\n",
              "      <td>pppp</td>\n",
              "      <td>0.0</td>\n",
              "      <td>mmm</td>\n",
              "      <td>200.0</td>\n",
              "      <td>2000000.0</td>\n",
              "      <td>qqqq</td>\n",
              "    </tr>\n",
              "    <tr>\n",
              "      <th>2</th>\n",
              "      <td>2</td>\n",
              "      <td>5</td>\n",
              "      <td>oooo</td>\n",
              "      <td>x</td>\n",
              "      <td>oooo</td>\n",
              "      <td>www</td>\n",
              "      <td>19.0</td>\n",
              "      <td>hh</td>\n",
              "      <td>96.0</td>\n",
              "      <td>960000.0</td>\n",
              "      <td>hh</td>\n",
              "    </tr>\n",
              "    <tr>\n",
              "      <th>3</th>\n",
              "      <td>3</td>\n",
              "      <td>9</td>\n",
              "      <td>oooo</td>\n",
              "      <td>NaN</td>\n",
              "      <td>oooo</td>\n",
              "      <td>www</td>\n",
              "      <td>120.0</td>\n",
              "      <td>kkk</td>\n",
              "      <td>0.0</td>\n",
              "      <td>0.0</td>\n",
              "      <td>qqq</td>\n",
              "    </tr>\n",
              "    <tr>\n",
              "      <th>3850</th>\n",
              "      <td>4</td>\n",
              "      <td>40</td>\n",
              "      <td>oooo</td>\n",
              "      <td>y</td>\n",
              "      <td>oooo</td>\n",
              "      <td>www</td>\n",
              "      <td>0.0</td>\n",
              "      <td>mmm</td>\n",
              "      <td>232.0</td>\n",
              "      <td>2320000.0</td>\n",
              "      <td>qqqq</td>\n",
              "    </tr>\n",
              "    <tr>\n",
              "      <th>...</th>\n",
              "      <td>...</td>\n",
              "      <td>...</td>\n",
              "      <td>...</td>\n",
              "      <td>...</td>\n",
              "      <td>...</td>\n",
              "      <td>...</td>\n",
              "      <td>...</td>\n",
              "      <td>...</td>\n",
              "      <td>...</td>\n",
              "      <td>...</td>\n",
              "      <td>...</td>\n",
              "    </tr>\n",
              "    <tr>\n",
              "      <th>3811</th>\n",
              "      <td>3695</td>\n",
              "      <td>74</td>\n",
              "      <td>oooo</td>\n",
              "      <td>x</td>\n",
              "      <td>oooo</td>\n",
              "      <td>www</td>\n",
              "      <td>26726.0</td>\n",
              "      <td>sss</td>\n",
              "      <td>NaN</td>\n",
              "      <td>NaN</td>\n",
              "      <td>qqqq</td>\n",
              "    </tr>\n",
              "    <tr>\n",
              "      <th>3696</th>\n",
              "      <td>3696</td>\n",
              "      <td>179</td>\n",
              "      <td>oooo</td>\n",
              "      <td>x</td>\n",
              "      <td>oooo</td>\n",
              "      <td>www</td>\n",
              "      <td>0.0</td>\n",
              "      <td>sss</td>\n",
              "      <td>120.0</td>\n",
              "      <td>1200000.0</td>\n",
              "      <td>qqqq</td>\n",
              "    </tr>\n",
              "    <tr>\n",
              "      <th>3697</th>\n",
              "      <td>3697</td>\n",
              "      <td>82</td>\n",
              "      <td>oooo</td>\n",
              "      <td>NaN</td>\n",
              "      <td>oooo</td>\n",
              "      <td>www</td>\n",
              "      <td>221.0</td>\n",
              "      <td>vvvv</td>\n",
              "      <td>0.0</td>\n",
              "      <td>0.0</td>\n",
              "      <td>qqqq</td>\n",
              "    </tr>\n",
              "    <tr>\n",
              "      <th>3698</th>\n",
              "      <td>3698</td>\n",
              "      <td>13</td>\n",
              "      <td>oooo</td>\n",
              "      <td>NaN</td>\n",
              "      <td>oooo</td>\n",
              "      <td>www</td>\n",
              "      <td>3.0</td>\n",
              "      <td>yyy</td>\n",
              "      <td>100.0</td>\n",
              "      <td>1000000.0</td>\n",
              "      <td>qqqq</td>\n",
              "    </tr>\n",
              "    <tr>\n",
              "      <th>3699</th>\n",
              "      <td>3699</td>\n",
              "      <td>57</td>\n",
              "      <td>oooo</td>\n",
              "      <td>y</td>\n",
              "      <td>oooo</td>\n",
              "      <td>www</td>\n",
              "      <td>4000.0</td>\n",
              "      <td>ggg</td>\n",
              "      <td>0.0</td>\n",
              "      <td>0.0</td>\n",
              "      <td>qqqq</td>\n",
              "    </tr>\n",
              "  </tbody>\n",
              "</table>\n",
              "<p>4070 rows × 11 columns</p>\n",
              "</div>\n",
              "      <button class=\"colab-df-convert\" onclick=\"convertToInteractive('df-637a712e-9165-4198-8a6d-a9e9dc2afc12')\"\n",
              "              title=\"Convert this dataframe to an interactive table.\"\n",
              "              style=\"display:none;\">\n",
              "        \n",
              "  <svg xmlns=\"http://www.w3.org/2000/svg\" height=\"24px\"viewBox=\"0 0 24 24\"\n",
              "       width=\"24px\">\n",
              "    <path d=\"M0 0h24v24H0V0z\" fill=\"none\"/>\n",
              "    <path d=\"M18.56 5.44l.94 2.06.94-2.06 2.06-.94-2.06-.94-.94-2.06-.94 2.06-2.06.94zm-11 1L8.5 8.5l.94-2.06 2.06-.94-2.06-.94L8.5 2.5l-.94 2.06-2.06.94zm10 10l.94 2.06.94-2.06 2.06-.94-2.06-.94-.94-2.06-.94 2.06-2.06.94z\"/><path d=\"M17.41 7.96l-1.37-1.37c-.4-.4-.92-.59-1.43-.59-.52 0-1.04.2-1.43.59L10.3 9.45l-7.72 7.72c-.78.78-.78 2.05 0 2.83L4 21.41c.39.39.9.59 1.41.59.51 0 1.02-.2 1.41-.59l7.78-7.78 2.81-2.81c.8-.78.8-2.07 0-2.86zM5.41 20L4 18.59l7.72-7.72 1.47 1.35L5.41 20z\"/>\n",
              "  </svg>\n",
              "      </button>\n",
              "      \n",
              "  <style>\n",
              "    .colab-df-container {\n",
              "      display:flex;\n",
              "      flex-wrap:wrap;\n",
              "      gap: 12px;\n",
              "    }\n",
              "\n",
              "    .colab-df-convert {\n",
              "      background-color: #E8F0FE;\n",
              "      border: none;\n",
              "      border-radius: 50%;\n",
              "      cursor: pointer;\n",
              "      display: none;\n",
              "      fill: #1967D2;\n",
              "      height: 32px;\n",
              "      padding: 0 0 0 0;\n",
              "      width: 32px;\n",
              "    }\n",
              "\n",
              "    .colab-df-convert:hover {\n",
              "      background-color: #E2EBFA;\n",
              "      box-shadow: 0px 1px 2px rgba(60, 64, 67, 0.3), 0px 1px 3px 1px rgba(60, 64, 67, 0.15);\n",
              "      fill: #174EA6;\n",
              "    }\n",
              "\n",
              "    [theme=dark] .colab-df-convert {\n",
              "      background-color: #3B4455;\n",
              "      fill: #D2E3FC;\n",
              "    }\n",
              "\n",
              "    [theme=dark] .colab-df-convert:hover {\n",
              "      background-color: #434B5C;\n",
              "      box-shadow: 0px 1px 3px 1px rgba(0, 0, 0, 0.15);\n",
              "      filter: drop-shadow(0px 1px 2px rgba(0, 0, 0, 0.3));\n",
              "      fill: #FFFFFF;\n",
              "    }\n",
              "  </style>\n",
              "\n",
              "      <script>\n",
              "        const buttonEl =\n",
              "          document.querySelector('#df-637a712e-9165-4198-8a6d-a9e9dc2afc12 button.colab-df-convert');\n",
              "        buttonEl.style.display =\n",
              "          google.colab.kernel.accessAllowed ? 'block' : 'none';\n",
              "\n",
              "        async function convertToInteractive(key) {\n",
              "          const element = document.querySelector('#df-637a712e-9165-4198-8a6d-a9e9dc2afc12');\n",
              "          const dataTable =\n",
              "            await google.colab.kernel.invokeFunction('convertToInteractive',\n",
              "                                                     [key], {});\n",
              "          if (!dataTable) return;\n",
              "\n",
              "          const docLinkHtml = 'Like what you see? Visit the ' +\n",
              "            '<a target=\"_blank\" href=https://colab.research.google.com/notebooks/data_table.ipynb>data table notebook</a>'\n",
              "            + ' to learn more about interactive tables.';\n",
              "          element.innerHTML = '';\n",
              "          dataTable['output_type'] = 'display_data';\n",
              "          await google.colab.output.renderOutput(dataTable, element);\n",
              "          const docLink = document.createElement('div');\n",
              "          docLink.innerHTML = docLinkHtml;\n",
              "          element.appendChild(docLink);\n",
              "        }\n",
              "      </script>\n",
              "    </div>\n",
              "  </div>\n",
              "  "
            ]
          },
          "metadata": {},
          "execution_count": 201
        }
      ]
    },
    {
      "cell_type": "code",
      "source": [
        "df_2"
      ],
      "metadata": {
        "colab": {
          "base_uri": "https://localhost:8080/",
          "height": 423
        },
        "id": "wGCgpjGHmdBJ",
        "outputId": "6863f190-2cc1-481d-b912-9624615b3c4c"
      },
      "execution_count": 202,
      "outputs": [
        {
          "output_type": "execute_result",
          "data": {
            "text/plain": [
              "      POUG    TRE    ID ZUB VOL   UIO VBNM Type    OIN\n",
              "0        1  1.750     0   t   f  uuuu    t    n  17.92\n",
              "3877     0  0.290     1   f   f  wwww    f    n  16.92\n",
              "1        0  0.290     1   f   f  wwww    f    n  16.92\n",
              "2        1  0.000     2   f   f  wwww    t    n  31.25\n",
              "3        0  0.335     3   f   f  uuuu    f    n  48.17\n",
              "...    ...    ...   ...  ..  ..   ...  ...  ...    ...\n",
              "3695     5  2.710  3695   f   t  uuuu    t    y  18.75\n",
              "3696     5  8.500  3696   t   t  uuuu    t    y  23.50\n",
              "3697    12  4.500  3697   t   t  wwww    t    y  34.17\n",
              "3698     5  3.750  3698   t   t  wwww    t    y  27.83\n",
              "3699     0  5.000  3699   t   t  uuuu    f    y  36.75\n",
              "\n",
              "[4070 rows x 9 columns]"
            ],
            "text/html": [
              "\n",
              "  <div id=\"df-6a2858b0-54bd-4965-b39d-3e3709ca464c\">\n",
              "    <div class=\"colab-df-container\">\n",
              "      <div>\n",
              "<style scoped>\n",
              "    .dataframe tbody tr th:only-of-type {\n",
              "        vertical-align: middle;\n",
              "    }\n",
              "\n",
              "    .dataframe tbody tr th {\n",
              "        vertical-align: top;\n",
              "    }\n",
              "\n",
              "    .dataframe thead th {\n",
              "        text-align: right;\n",
              "    }\n",
              "</style>\n",
              "<table border=\"1\" class=\"dataframe\">\n",
              "  <thead>\n",
              "    <tr style=\"text-align: right;\">\n",
              "      <th></th>\n",
              "      <th>POUG</th>\n",
              "      <th>TRE</th>\n",
              "      <th>ID</th>\n",
              "      <th>ZUB</th>\n",
              "      <th>VOL</th>\n",
              "      <th>UIO</th>\n",
              "      <th>VBNM</th>\n",
              "      <th>Type</th>\n",
              "      <th>OIN</th>\n",
              "    </tr>\n",
              "  </thead>\n",
              "  <tbody>\n",
              "    <tr>\n",
              "      <th>0</th>\n",
              "      <td>1</td>\n",
              "      <td>1.750</td>\n",
              "      <td>0</td>\n",
              "      <td>t</td>\n",
              "      <td>f</td>\n",
              "      <td>uuuu</td>\n",
              "      <td>t</td>\n",
              "      <td>n</td>\n",
              "      <td>17.92</td>\n",
              "    </tr>\n",
              "    <tr>\n",
              "      <th>3877</th>\n",
              "      <td>0</td>\n",
              "      <td>0.290</td>\n",
              "      <td>1</td>\n",
              "      <td>f</td>\n",
              "      <td>f</td>\n",
              "      <td>wwww</td>\n",
              "      <td>f</td>\n",
              "      <td>n</td>\n",
              "      <td>16.92</td>\n",
              "    </tr>\n",
              "    <tr>\n",
              "      <th>1</th>\n",
              "      <td>0</td>\n",
              "      <td>0.290</td>\n",
              "      <td>1</td>\n",
              "      <td>f</td>\n",
              "      <td>f</td>\n",
              "      <td>wwww</td>\n",
              "      <td>f</td>\n",
              "      <td>n</td>\n",
              "      <td>16.92</td>\n",
              "    </tr>\n",
              "    <tr>\n",
              "      <th>2</th>\n",
              "      <td>1</td>\n",
              "      <td>0.000</td>\n",
              "      <td>2</td>\n",
              "      <td>f</td>\n",
              "      <td>f</td>\n",
              "      <td>wwww</td>\n",
              "      <td>t</td>\n",
              "      <td>n</td>\n",
              "      <td>31.25</td>\n",
              "    </tr>\n",
              "    <tr>\n",
              "      <th>3</th>\n",
              "      <td>0</td>\n",
              "      <td>0.335</td>\n",
              "      <td>3</td>\n",
              "      <td>f</td>\n",
              "      <td>f</td>\n",
              "      <td>uuuu</td>\n",
              "      <td>f</td>\n",
              "      <td>n</td>\n",
              "      <td>48.17</td>\n",
              "    </tr>\n",
              "    <tr>\n",
              "      <th>...</th>\n",
              "      <td>...</td>\n",
              "      <td>...</td>\n",
              "      <td>...</td>\n",
              "      <td>...</td>\n",
              "      <td>...</td>\n",
              "      <td>...</td>\n",
              "      <td>...</td>\n",
              "      <td>...</td>\n",
              "      <td>...</td>\n",
              "    </tr>\n",
              "    <tr>\n",
              "      <th>3695</th>\n",
              "      <td>5</td>\n",
              "      <td>2.710</td>\n",
              "      <td>3695</td>\n",
              "      <td>f</td>\n",
              "      <td>t</td>\n",
              "      <td>uuuu</td>\n",
              "      <td>t</td>\n",
              "      <td>y</td>\n",
              "      <td>18.75</td>\n",
              "    </tr>\n",
              "    <tr>\n",
              "      <th>3696</th>\n",
              "      <td>5</td>\n",
              "      <td>8.500</td>\n",
              "      <td>3696</td>\n",
              "      <td>t</td>\n",
              "      <td>t</td>\n",
              "      <td>uuuu</td>\n",
              "      <td>t</td>\n",
              "      <td>y</td>\n",
              "      <td>23.50</td>\n",
              "    </tr>\n",
              "    <tr>\n",
              "      <th>3697</th>\n",
              "      <td>12</td>\n",
              "      <td>4.500</td>\n",
              "      <td>3697</td>\n",
              "      <td>t</td>\n",
              "      <td>t</td>\n",
              "      <td>wwww</td>\n",
              "      <td>t</td>\n",
              "      <td>y</td>\n",
              "      <td>34.17</td>\n",
              "    </tr>\n",
              "    <tr>\n",
              "      <th>3698</th>\n",
              "      <td>5</td>\n",
              "      <td>3.750</td>\n",
              "      <td>3698</td>\n",
              "      <td>t</td>\n",
              "      <td>t</td>\n",
              "      <td>wwww</td>\n",
              "      <td>t</td>\n",
              "      <td>y</td>\n",
              "      <td>27.83</td>\n",
              "    </tr>\n",
              "    <tr>\n",
              "      <th>3699</th>\n",
              "      <td>0</td>\n",
              "      <td>5.000</td>\n",
              "      <td>3699</td>\n",
              "      <td>t</td>\n",
              "      <td>t</td>\n",
              "      <td>uuuu</td>\n",
              "      <td>f</td>\n",
              "      <td>y</td>\n",
              "      <td>36.75</td>\n",
              "    </tr>\n",
              "  </tbody>\n",
              "</table>\n",
              "<p>4070 rows × 9 columns</p>\n",
              "</div>\n",
              "      <button class=\"colab-df-convert\" onclick=\"convertToInteractive('df-6a2858b0-54bd-4965-b39d-3e3709ca464c')\"\n",
              "              title=\"Convert this dataframe to an interactive table.\"\n",
              "              style=\"display:none;\">\n",
              "        \n",
              "  <svg xmlns=\"http://www.w3.org/2000/svg\" height=\"24px\"viewBox=\"0 0 24 24\"\n",
              "       width=\"24px\">\n",
              "    <path d=\"M0 0h24v24H0V0z\" fill=\"none\"/>\n",
              "    <path d=\"M18.56 5.44l.94 2.06.94-2.06 2.06-.94-2.06-.94-.94-2.06-.94 2.06-2.06.94zm-11 1L8.5 8.5l.94-2.06 2.06-.94-2.06-.94L8.5 2.5l-.94 2.06-2.06.94zm10 10l.94 2.06.94-2.06 2.06-.94-2.06-.94-.94-2.06-.94 2.06-2.06.94z\"/><path d=\"M17.41 7.96l-1.37-1.37c-.4-.4-.92-.59-1.43-.59-.52 0-1.04.2-1.43.59L10.3 9.45l-7.72 7.72c-.78.78-.78 2.05 0 2.83L4 21.41c.39.39.9.59 1.41.59.51 0 1.02-.2 1.41-.59l7.78-7.78 2.81-2.81c.8-.78.8-2.07 0-2.86zM5.41 20L4 18.59l7.72-7.72 1.47 1.35L5.41 20z\"/>\n",
              "  </svg>\n",
              "      </button>\n",
              "      \n",
              "  <style>\n",
              "    .colab-df-container {\n",
              "      display:flex;\n",
              "      flex-wrap:wrap;\n",
              "      gap: 12px;\n",
              "    }\n",
              "\n",
              "    .colab-df-convert {\n",
              "      background-color: #E8F0FE;\n",
              "      border: none;\n",
              "      border-radius: 50%;\n",
              "      cursor: pointer;\n",
              "      display: none;\n",
              "      fill: #1967D2;\n",
              "      height: 32px;\n",
              "      padding: 0 0 0 0;\n",
              "      width: 32px;\n",
              "    }\n",
              "\n",
              "    .colab-df-convert:hover {\n",
              "      background-color: #E2EBFA;\n",
              "      box-shadow: 0px 1px 2px rgba(60, 64, 67, 0.3), 0px 1px 3px 1px rgba(60, 64, 67, 0.15);\n",
              "      fill: #174EA6;\n",
              "    }\n",
              "\n",
              "    [theme=dark] .colab-df-convert {\n",
              "      background-color: #3B4455;\n",
              "      fill: #D2E3FC;\n",
              "    }\n",
              "\n",
              "    [theme=dark] .colab-df-convert:hover {\n",
              "      background-color: #434B5C;\n",
              "      box-shadow: 0px 1px 3px 1px rgba(0, 0, 0, 0.15);\n",
              "      filter: drop-shadow(0px 1px 2px rgba(0, 0, 0, 0.3));\n",
              "      fill: #FFFFFF;\n",
              "    }\n",
              "  </style>\n",
              "\n",
              "      <script>\n",
              "        const buttonEl =\n",
              "          document.querySelector('#df-6a2858b0-54bd-4965-b39d-3e3709ca464c button.colab-df-convert');\n",
              "        buttonEl.style.display =\n",
              "          google.colab.kernel.accessAllowed ? 'block' : 'none';\n",
              "\n",
              "        async function convertToInteractive(key) {\n",
              "          const element = document.querySelector('#df-6a2858b0-54bd-4965-b39d-3e3709ca464c');\n",
              "          const dataTable =\n",
              "            await google.colab.kernel.invokeFunction('convertToInteractive',\n",
              "                                                     [key], {});\n",
              "          if (!dataTable) return;\n",
              "\n",
              "          const docLinkHtml = 'Like what you see? Visit the ' +\n",
              "            '<a target=\"_blank\" href=https://colab.research.google.com/notebooks/data_table.ipynb>data table notebook</a>'\n",
              "            + ' to learn more about interactive tables.';\n",
              "          element.innerHTML = '';\n",
              "          dataTable['output_type'] = 'display_data';\n",
              "          await google.colab.output.renderOutput(dataTable, element);\n",
              "          const docLink = document.createElement('div');\n",
              "          docLink.innerHTML = docLinkHtml;\n",
              "          element.appendChild(docLink);\n",
              "        }\n",
              "      </script>\n",
              "    </div>\n",
              "  </div>\n",
              "  "
            ]
          },
          "metadata": {},
          "execution_count": 202
        }
      ]
    },
    {
      "cell_type": "markdown",
      "source": [
        "Taking a glimpse on the sorted frames it seems that there may be duplicated rows or multiple entries per ID on each table. We will take a look in the next subsection."
      ],
      "metadata": {
        "id": "d54o_rQe-ED1"
      }
    },
    {
      "cell_type": "markdown",
      "source": [
        "### Duplicated Instances"
      ],
      "metadata": {
        "id": "VnZLuY6Ck7PX"
      }
    },
    {
      "cell_type": "markdown",
      "source": [
        "Check the number of duplicated rows per each DataFrame."
      ],
      "metadata": {
        "id": "6rNYYAtqw8i6"
      }
    },
    {
      "cell_type": "code",
      "source": [
        "# Print the number of duplicated rows for Dataframe 1\n",
        "print(f'The number of duplicated rows in DataFrame 1 is {df_1.duplicated().sum()} out of {df_1.shape[0]} rows.')\n",
        "\n",
        "# Print the number of duplicated rows for Dataframe 2\n",
        "print(f'The number of duplicated rows in DataFrame 2 is {df_2.duplicated().sum()} out of {df_2.shape[0]} rows.')"
      ],
      "metadata": {
        "colab": {
          "base_uri": "https://localhost:8080/"
        },
        "id": "CUVc82R0k-GP",
        "outputId": "df35552c-f128-4ebd-9ad6-eb110f730e2e"
      },
      "execution_count": 203,
      "outputs": [
        {
          "output_type": "stream",
          "name": "stdout",
          "text": [
            "The number of duplicated rows in DataFrame 1 is 370 out of 4070 rows.\n",
            "The number of duplicated rows in DataFrame 2 is 370 out of 4070 rows.\n"
          ]
        }
      ]
    },
    {
      "cell_type": "markdown",
      "source": [
        "Drop duplicated rows in each of the DataFrames."
      ],
      "metadata": {
        "id": "_FJcZh2rxFVr"
      }
    },
    {
      "cell_type": "code",
      "source": [
        "# keep = 'first' : Drops duplicates except for the first occurrence.\n",
        "# inplace = True: Modify the DataFrame rather than creating a new one.\n",
        "\n",
        "# Drop duplicates for DataFrame 1\n",
        "df_1.drop_duplicates(keep='first', inplace=True)\n",
        "\n",
        "# Drop duplicates for DataFrame 2\n",
        "df_2.drop_duplicates(keep='first', inplace=True)"
      ],
      "metadata": {
        "id": "IGIMn3uRw6pS"
      },
      "execution_count": 204,
      "outputs": []
    },
    {
      "cell_type": "markdown",
      "source": [
        "Re-check the number of duplicated rows per each DataFrame."
      ],
      "metadata": {
        "id": "1JHmTRyPxB36"
      }
    },
    {
      "cell_type": "code",
      "source": [
        "# Print the number of duplicated rows for Dataframe 1\n",
        "print(f'The number of duplicated rows in DataFrame 1 is {df_1.duplicated().sum()} out of {df_1.shape[0]} rows.')\n",
        "\n",
        "# Print the number of duplicated rows for Dataframe 2\n",
        "print(f'The number of duplicated rows in DataFrame 2 is {df_2.duplicated().sum()} out of {df_2.shape[0]} rows.')"
      ],
      "metadata": {
        "colab": {
          "base_uri": "https://localhost:8080/"
        },
        "id": "OvBFFn5Ew6sB",
        "outputId": "b0407785-f637-407e-dc09-faf772001c01"
      },
      "execution_count": 205,
      "outputs": [
        {
          "output_type": "stream",
          "name": "stdout",
          "text": [
            "The number of duplicated rows in DataFrame 1 is 0 out of 3700 rows.\n",
            "The number of duplicated rows in DataFrame 2 is 0 out of 3700 rows.\n"
          ]
        }
      ]
    },
    {
      "cell_type": "markdown",
      "source": [
        "### Merge Datasets"
      ],
      "metadata": {
        "id": "cn8VlrBOkeUo"
      }
    },
    {
      "cell_type": "markdown",
      "source": [
        "Check the unique values in the ID column per DataFrame to evaluate the most suitable type of table join."
      ],
      "metadata": {
        "id": "qbFwBUOf9YUN"
      }
    },
    {
      "cell_type": "code",
      "source": [
        "# Unique IDs in DataFrame 1\n",
        "print(f'{df_1[\"ID\"].nunique()} in {df_1.shape[0]} rows.')\n",
        "\n",
        "# Unique IDs in DataFrame 2\n",
        "print(f'{df_2[\"ID\"].nunique()} in {df_2.shape[0]} rows.')"
      ],
      "metadata": {
        "colab": {
          "base_uri": "https://localhost:8080/"
        },
        "id": "hZWWSLGLggE1",
        "outputId": "1438cf57-e04a-4fd5-c993-4949a5bc776c"
      },
      "execution_count": 206,
      "outputs": [
        {
          "output_type": "stream",
          "name": "stdout",
          "text": [
            "3700 in 3700 rows.\n",
            "3700 in 3700 rows.\n"
          ]
        }
      ]
    },
    {
      "cell_type": "markdown",
      "source": [
        "We should be perfectly good to use the default value for joining tables proposed by Pandas (Inner Join)."
      ],
      "metadata": {
        "id": "4tzOt59L_x7O"
      }
    },
    {
      "cell_type": "markdown",
      "source": [
        "Join the Datasets\n",
        "\n",
        "[Numpy Documentation](https://pandas.pydata.org/docs/reference/api/pandas.DataFrame.merge.html)\n",
        "\n",
        "[Join Type Explanation](https://www.analyticsvidhya.com/blog/2021/06/join-the-dataframes-like-sql-tables-in-python-using-pandas/)"
      ],
      "metadata": {
        "id": "w5fS_1tnjJqU"
      }
    },
    {
      "cell_type": "code",
      "source": [
        "# Perform inner join on 'ID' column\n",
        "df = pd.merge(df_1, df_2, on='ID', how='inner')\n",
        "\n",
        "# Move the dependent variable (Type) to the end\n",
        "df.insert(loc=(len(df.columns)-1), column='Type', value=df.pop('Type'))\n",
        "\n",
        "# Print the sizze of the transformed DataFrame\n",
        "print(f'The merged DataFrame has {df.shape[0]} rows and {df.shape[1]} columns.\\n')\n",
        "\n",
        "# Show first 10 rows of merged DataFrame as sanity check\n",
        "df.head(10)"
      ],
      "metadata": {
        "colab": {
          "base_uri": "https://localhost:8080/",
          "height": 399
        },
        "id": "9P4WNlqdgXo1",
        "outputId": "c99a35c9-9086-4607-87f9-0213d99aa8eb"
      },
      "execution_count": 207,
      "outputs": [
        {
          "output_type": "stream",
          "name": "stdout",
          "text": [
            "The merged DataFrame has 3700 rows and 19 columns.\n",
            "\n"
          ]
        },
        {
          "output_type": "execute_result",
          "data": {
            "text/plain": [
              "   ID  UKL  GJAH  ZIK   HUI   ERZ    CDx BJZHD  NKJUD        LPI  BJKG  POUG  \\\n",
              "0   0  160  oooo    x  oooo   www    5.0  vvvv   80.0   800000.0  qqqq     1   \n",
              "1   1  153   rrr  NaN   uuu  pppp    0.0   mmm  200.0  2000000.0  qqqq     0   \n",
              "2   2    5  oooo    x  oooo   www   19.0    hh   96.0   960000.0    hh     1   \n",
              "3   3    9  oooo  NaN  oooo   www  120.0   kkk    0.0        0.0   qqq     0   \n",
              "4   4   40  oooo    y  oooo   www    0.0   mmm  232.0  2320000.0  qqqq     0   \n",
              "5   5    8   rrr    y  oooo  pppp    0.0   kkk  160.0  1600000.0  hhhh     0   \n",
              "6   6  152  oooo  NaN  oooo   www    1.0   lll  276.0  2760000.0   lll     0   \n",
              "7   7  176   rrr  NaN  oooo  pppp  204.0  vvvv  280.0  2800000.0  hhhh     0   \n",
              "8   8  154  oooo  NaN  oooo   www  140.0  vvvv  220.0  2200000.0  qqqq     0   \n",
              "9   9   95  oooo  NaN  oooo   www   13.0  vvvv  320.0  3200000.0  hhhh     0   \n",
              "\n",
              "     TRE ZUB VOL   UIO VBNM    OIN Type  \n",
              "0  1.750   t   f  uuuu    t  17.92    n  \n",
              "1  0.290   f   f  wwww    f  16.92    n  \n",
              "2  0.000   f   f  wwww    t  31.25    n  \n",
              "3  0.335   f   f  uuuu    f  48.17    n  \n",
              "4  0.500   t   f  wwww    f  32.33    n  \n",
              "5  0.500   t   f  uuuu    f  34.83    n  \n",
              "6  0.000   t   f  uuuu    f  26.17    n  \n",
              "7  0.250   f   f  wwww    f  21.17    n  \n",
              "8  0.290   f   f  wwww    f  28.92    n  \n",
              "9  1.085   f   f  wwww    f  18.17    n  "
            ],
            "text/html": [
              "\n",
              "  <div id=\"df-87889a20-4003-4f9e-9e7a-74819643e0ad\">\n",
              "    <div class=\"colab-df-container\">\n",
              "      <div>\n",
              "<style scoped>\n",
              "    .dataframe tbody tr th:only-of-type {\n",
              "        vertical-align: middle;\n",
              "    }\n",
              "\n",
              "    .dataframe tbody tr th {\n",
              "        vertical-align: top;\n",
              "    }\n",
              "\n",
              "    .dataframe thead th {\n",
              "        text-align: right;\n",
              "    }\n",
              "</style>\n",
              "<table border=\"1\" class=\"dataframe\">\n",
              "  <thead>\n",
              "    <tr style=\"text-align: right;\">\n",
              "      <th></th>\n",
              "      <th>ID</th>\n",
              "      <th>UKL</th>\n",
              "      <th>GJAH</th>\n",
              "      <th>ZIK</th>\n",
              "      <th>HUI</th>\n",
              "      <th>ERZ</th>\n",
              "      <th>CDx</th>\n",
              "      <th>BJZHD</th>\n",
              "      <th>NKJUD</th>\n",
              "      <th>LPI</th>\n",
              "      <th>BJKG</th>\n",
              "      <th>POUG</th>\n",
              "      <th>TRE</th>\n",
              "      <th>ZUB</th>\n",
              "      <th>VOL</th>\n",
              "      <th>UIO</th>\n",
              "      <th>VBNM</th>\n",
              "      <th>OIN</th>\n",
              "      <th>Type</th>\n",
              "    </tr>\n",
              "  </thead>\n",
              "  <tbody>\n",
              "    <tr>\n",
              "      <th>0</th>\n",
              "      <td>0</td>\n",
              "      <td>160</td>\n",
              "      <td>oooo</td>\n",
              "      <td>x</td>\n",
              "      <td>oooo</td>\n",
              "      <td>www</td>\n",
              "      <td>5.0</td>\n",
              "      <td>vvvv</td>\n",
              "      <td>80.0</td>\n",
              "      <td>800000.0</td>\n",
              "      <td>qqqq</td>\n",
              "      <td>1</td>\n",
              "      <td>1.750</td>\n",
              "      <td>t</td>\n",
              "      <td>f</td>\n",
              "      <td>uuuu</td>\n",
              "      <td>t</td>\n",
              "      <td>17.92</td>\n",
              "      <td>n</td>\n",
              "    </tr>\n",
              "    <tr>\n",
              "      <th>1</th>\n",
              "      <td>1</td>\n",
              "      <td>153</td>\n",
              "      <td>rrr</td>\n",
              "      <td>NaN</td>\n",
              "      <td>uuu</td>\n",
              "      <td>pppp</td>\n",
              "      <td>0.0</td>\n",
              "      <td>mmm</td>\n",
              "      <td>200.0</td>\n",
              "      <td>2000000.0</td>\n",
              "      <td>qqqq</td>\n",
              "      <td>0</td>\n",
              "      <td>0.290</td>\n",
              "      <td>f</td>\n",
              "      <td>f</td>\n",
              "      <td>wwww</td>\n",
              "      <td>f</td>\n",
              "      <td>16.92</td>\n",
              "      <td>n</td>\n",
              "    </tr>\n",
              "    <tr>\n",
              "      <th>2</th>\n",
              "      <td>2</td>\n",
              "      <td>5</td>\n",
              "      <td>oooo</td>\n",
              "      <td>x</td>\n",
              "      <td>oooo</td>\n",
              "      <td>www</td>\n",
              "      <td>19.0</td>\n",
              "      <td>hh</td>\n",
              "      <td>96.0</td>\n",
              "      <td>960000.0</td>\n",
              "      <td>hh</td>\n",
              "      <td>1</td>\n",
              "      <td>0.000</td>\n",
              "      <td>f</td>\n",
              "      <td>f</td>\n",
              "      <td>wwww</td>\n",
              "      <td>t</td>\n",
              "      <td>31.25</td>\n",
              "      <td>n</td>\n",
              "    </tr>\n",
              "    <tr>\n",
              "      <th>3</th>\n",
              "      <td>3</td>\n",
              "      <td>9</td>\n",
              "      <td>oooo</td>\n",
              "      <td>NaN</td>\n",
              "      <td>oooo</td>\n",
              "      <td>www</td>\n",
              "      <td>120.0</td>\n",
              "      <td>kkk</td>\n",
              "      <td>0.0</td>\n",
              "      <td>0.0</td>\n",
              "      <td>qqq</td>\n",
              "      <td>0</td>\n",
              "      <td>0.335</td>\n",
              "      <td>f</td>\n",
              "      <td>f</td>\n",
              "      <td>uuuu</td>\n",
              "      <td>f</td>\n",
              "      <td>48.17</td>\n",
              "      <td>n</td>\n",
              "    </tr>\n",
              "    <tr>\n",
              "      <th>4</th>\n",
              "      <td>4</td>\n",
              "      <td>40</td>\n",
              "      <td>oooo</td>\n",
              "      <td>y</td>\n",
              "      <td>oooo</td>\n",
              "      <td>www</td>\n",
              "      <td>0.0</td>\n",
              "      <td>mmm</td>\n",
              "      <td>232.0</td>\n",
              "      <td>2320000.0</td>\n",
              "      <td>qqqq</td>\n",
              "      <td>0</td>\n",
              "      <td>0.500</td>\n",
              "      <td>t</td>\n",
              "      <td>f</td>\n",
              "      <td>wwww</td>\n",
              "      <td>f</td>\n",
              "      <td>32.33</td>\n",
              "      <td>n</td>\n",
              "    </tr>\n",
              "    <tr>\n",
              "      <th>5</th>\n",
              "      <td>5</td>\n",
              "      <td>8</td>\n",
              "      <td>rrr</td>\n",
              "      <td>y</td>\n",
              "      <td>oooo</td>\n",
              "      <td>pppp</td>\n",
              "      <td>0.0</td>\n",
              "      <td>kkk</td>\n",
              "      <td>160.0</td>\n",
              "      <td>1600000.0</td>\n",
              "      <td>hhhh</td>\n",
              "      <td>0</td>\n",
              "      <td>0.500</td>\n",
              "      <td>t</td>\n",
              "      <td>f</td>\n",
              "      <td>uuuu</td>\n",
              "      <td>f</td>\n",
              "      <td>34.83</td>\n",
              "      <td>n</td>\n",
              "    </tr>\n",
              "    <tr>\n",
              "      <th>6</th>\n",
              "      <td>6</td>\n",
              "      <td>152</td>\n",
              "      <td>oooo</td>\n",
              "      <td>NaN</td>\n",
              "      <td>oooo</td>\n",
              "      <td>www</td>\n",
              "      <td>1.0</td>\n",
              "      <td>lll</td>\n",
              "      <td>276.0</td>\n",
              "      <td>2760000.0</td>\n",
              "      <td>lll</td>\n",
              "      <td>0</td>\n",
              "      <td>0.000</td>\n",
              "      <td>t</td>\n",
              "      <td>f</td>\n",
              "      <td>uuuu</td>\n",
              "      <td>f</td>\n",
              "      <td>26.17</td>\n",
              "      <td>n</td>\n",
              "    </tr>\n",
              "    <tr>\n",
              "      <th>7</th>\n",
              "      <td>7</td>\n",
              "      <td>176</td>\n",
              "      <td>rrr</td>\n",
              "      <td>NaN</td>\n",
              "      <td>oooo</td>\n",
              "      <td>pppp</td>\n",
              "      <td>204.0</td>\n",
              "      <td>vvvv</td>\n",
              "      <td>280.0</td>\n",
              "      <td>2800000.0</td>\n",
              "      <td>hhhh</td>\n",
              "      <td>0</td>\n",
              "      <td>0.250</td>\n",
              "      <td>f</td>\n",
              "      <td>f</td>\n",
              "      <td>wwww</td>\n",
              "      <td>f</td>\n",
              "      <td>21.17</td>\n",
              "      <td>n</td>\n",
              "    </tr>\n",
              "    <tr>\n",
              "      <th>8</th>\n",
              "      <td>8</td>\n",
              "      <td>154</td>\n",
              "      <td>oooo</td>\n",
              "      <td>NaN</td>\n",
              "      <td>oooo</td>\n",
              "      <td>www</td>\n",
              "      <td>140.0</td>\n",
              "      <td>vvvv</td>\n",
              "      <td>220.0</td>\n",
              "      <td>2200000.0</td>\n",
              "      <td>qqqq</td>\n",
              "      <td>0</td>\n",
              "      <td>0.290</td>\n",
              "      <td>f</td>\n",
              "      <td>f</td>\n",
              "      <td>wwww</td>\n",
              "      <td>f</td>\n",
              "      <td>28.92</td>\n",
              "      <td>n</td>\n",
              "    </tr>\n",
              "    <tr>\n",
              "      <th>9</th>\n",
              "      <td>9</td>\n",
              "      <td>95</td>\n",
              "      <td>oooo</td>\n",
              "      <td>NaN</td>\n",
              "      <td>oooo</td>\n",
              "      <td>www</td>\n",
              "      <td>13.0</td>\n",
              "      <td>vvvv</td>\n",
              "      <td>320.0</td>\n",
              "      <td>3200000.0</td>\n",
              "      <td>hhhh</td>\n",
              "      <td>0</td>\n",
              "      <td>1.085</td>\n",
              "      <td>f</td>\n",
              "      <td>f</td>\n",
              "      <td>wwww</td>\n",
              "      <td>f</td>\n",
              "      <td>18.17</td>\n",
              "      <td>n</td>\n",
              "    </tr>\n",
              "  </tbody>\n",
              "</table>\n",
              "</div>\n",
              "      <button class=\"colab-df-convert\" onclick=\"convertToInteractive('df-87889a20-4003-4f9e-9e7a-74819643e0ad')\"\n",
              "              title=\"Convert this dataframe to an interactive table.\"\n",
              "              style=\"display:none;\">\n",
              "        \n",
              "  <svg xmlns=\"http://www.w3.org/2000/svg\" height=\"24px\"viewBox=\"0 0 24 24\"\n",
              "       width=\"24px\">\n",
              "    <path d=\"M0 0h24v24H0V0z\" fill=\"none\"/>\n",
              "    <path d=\"M18.56 5.44l.94 2.06.94-2.06 2.06-.94-2.06-.94-.94-2.06-.94 2.06-2.06.94zm-11 1L8.5 8.5l.94-2.06 2.06-.94-2.06-.94L8.5 2.5l-.94 2.06-2.06.94zm10 10l.94 2.06.94-2.06 2.06-.94-2.06-.94-.94-2.06-.94 2.06-2.06.94z\"/><path d=\"M17.41 7.96l-1.37-1.37c-.4-.4-.92-.59-1.43-.59-.52 0-1.04.2-1.43.59L10.3 9.45l-7.72 7.72c-.78.78-.78 2.05 0 2.83L4 21.41c.39.39.9.59 1.41.59.51 0 1.02-.2 1.41-.59l7.78-7.78 2.81-2.81c.8-.78.8-2.07 0-2.86zM5.41 20L4 18.59l7.72-7.72 1.47 1.35L5.41 20z\"/>\n",
              "  </svg>\n",
              "      </button>\n",
              "      \n",
              "  <style>\n",
              "    .colab-df-container {\n",
              "      display:flex;\n",
              "      flex-wrap:wrap;\n",
              "      gap: 12px;\n",
              "    }\n",
              "\n",
              "    .colab-df-convert {\n",
              "      background-color: #E8F0FE;\n",
              "      border: none;\n",
              "      border-radius: 50%;\n",
              "      cursor: pointer;\n",
              "      display: none;\n",
              "      fill: #1967D2;\n",
              "      height: 32px;\n",
              "      padding: 0 0 0 0;\n",
              "      width: 32px;\n",
              "    }\n",
              "\n",
              "    .colab-df-convert:hover {\n",
              "      background-color: #E2EBFA;\n",
              "      box-shadow: 0px 1px 2px rgba(60, 64, 67, 0.3), 0px 1px 3px 1px rgba(60, 64, 67, 0.15);\n",
              "      fill: #174EA6;\n",
              "    }\n",
              "\n",
              "    [theme=dark] .colab-df-convert {\n",
              "      background-color: #3B4455;\n",
              "      fill: #D2E3FC;\n",
              "    }\n",
              "\n",
              "    [theme=dark] .colab-df-convert:hover {\n",
              "      background-color: #434B5C;\n",
              "      box-shadow: 0px 1px 3px 1px rgba(0, 0, 0, 0.15);\n",
              "      filter: drop-shadow(0px 1px 2px rgba(0, 0, 0, 0.3));\n",
              "      fill: #FFFFFF;\n",
              "    }\n",
              "  </style>\n",
              "\n",
              "      <script>\n",
              "        const buttonEl =\n",
              "          document.querySelector('#df-87889a20-4003-4f9e-9e7a-74819643e0ad button.colab-df-convert');\n",
              "        buttonEl.style.display =\n",
              "          google.colab.kernel.accessAllowed ? 'block' : 'none';\n",
              "\n",
              "        async function convertToInteractive(key) {\n",
              "          const element = document.querySelector('#df-87889a20-4003-4f9e-9e7a-74819643e0ad');\n",
              "          const dataTable =\n",
              "            await google.colab.kernel.invokeFunction('convertToInteractive',\n",
              "                                                     [key], {});\n",
              "          if (!dataTable) return;\n",
              "\n",
              "          const docLinkHtml = 'Like what you see? Visit the ' +\n",
              "            '<a target=\"_blank\" href=https://colab.research.google.com/notebooks/data_table.ipynb>data table notebook</a>'\n",
              "            + ' to learn more about interactive tables.';\n",
              "          element.innerHTML = '';\n",
              "          dataTable['output_type'] = 'display_data';\n",
              "          await google.colab.output.renderOutput(dataTable, element);\n",
              "          const docLink = document.createElement('div');\n",
              "          docLink.innerHTML = docLinkHtml;\n",
              "          element.appendChild(docLink);\n",
              "        }\n",
              "      </script>\n",
              "    </div>\n",
              "  </div>\n",
              "  "
            ]
          },
          "metadata": {},
          "execution_count": 207
        }
      ]
    },
    {
      "cell_type": "markdown",
      "source": [
        "Get the missing values percentage summary now for the merged DataFrame."
      ],
      "metadata": {
        "id": "n3aWN6SaBlFe"
      }
    },
    {
      "cell_type": "code",
      "source": [
        "# Check for the percentage of missing values per feature\n",
        "print(f'Percentage of Null Values per Feature\\n{((df.isnull().sum() / len(df))) * 100}\\n')"
      ],
      "metadata": {
        "colab": {
          "base_uri": "https://localhost:8080/"
        },
        "id": "_B-chYWN9gPl",
        "outputId": "831acc7d-853c-41ed-d39c-37aa459bedc4"
      },
      "execution_count": 208,
      "outputs": [
        {
          "output_type": "stream",
          "name": "stdout",
          "text": [
            "Percentage of Null Values per Feature\n",
            "ID        0.000000\n",
            "UKL       0.000000\n",
            "GJAH      1.729730\n",
            "ZIK      57.972973\n",
            "HUI       0.000000\n",
            "ERZ       1.729730\n",
            "CDx       0.000000\n",
            "BJZHD     1.783784\n",
            "NKJUD     2.702703\n",
            "LPI       2.702703\n",
            "BJKG      1.783784\n",
            "POUG      0.000000\n",
            "TRE       0.000000\n",
            "ZUB       0.000000\n",
            "VOL       0.000000\n",
            "UIO       1.054054\n",
            "VBNM      0.000000\n",
            "OIN       1.054054\n",
            "Type      0.000000\n",
            "dtype: float64\n",
            "\n"
          ]
        }
      ]
    },
    {
      "cell_type": "markdown",
      "source": [
        "Most of the features containing missing values have them in a relatively low percentage (not exceeding 2.71%), so these missing values will be imputed. However, there is a problematic exception for the ZIK feature that has around 58% of missing values. This is a HUGE percentage that will require a more specific approach. For this, we will label all the missing values with a 'no-info' tag so we have an annotation to know when the value is missing that will be automatically One-hot encoded in the encoding section*. So for now we just set the label of NA for that column.\n",
        "\n",
        "[Discussion on this approach](https://www.quora.com/How-do-I-deal-with-a-lot-more-than-half-of-missing-value)\n",
        "\n",
        "*The latest releases of Sci-kit Learn's One Hot Encoder already handle the missing values this way, but we will assume that the user could hve an older release."
      ],
      "metadata": {
        "id": "TXVUNyYLDzp3"
      }
    },
    {
      "cell_type": "code",
      "source": [
        "# Add no-info label to the missing values of ZIK feature\n",
        "df['ZIK'].fillna('no_info', inplace=True)"
      ],
      "metadata": {
        "id": "vBkYggCJky5D"
      },
      "execution_count": 209,
      "outputs": []
    },
    {
      "cell_type": "markdown",
      "source": [
        "We get a list of the numerical and categorical features since each of them will require a different filling NA approach."
      ],
      "metadata": {
        "id": "EqcFyuJDJ8u2"
      }
    },
    {
      "cell_type": "code",
      "source": [
        "# Get the list of numerical attributes\n",
        "\n",
        "numerical_features = list(df.select_dtypes(include='number').columns)\n",
        "numerical_features.remove('ID') # Drop the ID column since it is not significant for modelling\n",
        "print(f'Numerical features: {numerical_features}')\n",
        "\n",
        "# Get the list of categorical attributes\n",
        "\n",
        "categorical_features = list(df.select_dtypes(include='object').columns)\n",
        "categorical_features.remove('Type') # Drop the Type column since it is the dependent variable\n",
        "print(f'Categorical features: {categorical_features}')"
      ],
      "metadata": {
        "colab": {
          "base_uri": "https://localhost:8080/"
        },
        "id": "OU3ug46yFSso",
        "outputId": "f7e1f129-4924-4798-e1db-6f9bc53f824f"
      },
      "execution_count": 210,
      "outputs": [
        {
          "output_type": "stream",
          "name": "stdout",
          "text": [
            "Numerical features: ['UKL', 'CDx', 'NKJUD', 'LPI', 'POUG', 'TRE', 'OIN']\n",
            "Categorical features: ['GJAH', 'ZIK', 'HUI', 'ERZ', 'BJZHD', 'BJKG', 'ZUB', 'VOL', 'UIO', 'VBNM']\n"
          ]
        }
      ]
    },
    {
      "cell_type": "markdown",
      "source": [
        "Checking again the categorical features' unique values we notice that there are several binary categorical features. It could be handy to also annotate them into lists for different encoding approaches in a further phase."
      ],
      "metadata": {
        "id": "iLdRu-APmdTG"
      }
    },
    {
      "cell_type": "code",
      "source": [
        "# Get description of categorical attributes\n",
        "print(f'Dataset description:\\nCategorical Data\\n{df.describe(include = object).transpose()}')"
      ],
      "metadata": {
        "colab": {
          "base_uri": "https://localhost:8080/"
        },
        "id": "LQMN1w3Ad1Lk",
        "outputId": "6a55ebd6-9a0a-43cf-bf4b-2c64cb2db622"
      },
      "execution_count": 211,
      "outputs": [
        {
          "output_type": "stream",
          "name": "stdout",
          "text": [
            "Dataset description:\n",
            "Categorical Data\n",
            "      count unique      top  freq\n",
            "GJAH   3636      3     oooo  3055\n",
            "ZIK    3700      3  no_info  2145\n",
            "HUI    3700      3     oooo  3430\n",
            "ERZ    3636      3      www  3055\n",
            "BJZHD  3634     12     vvvv   787\n",
            "BJKG   3634      8     qqqq  2015\n",
            "ZUB    3700      2        f  1924\n",
            "VOL    3700      2        t  3171\n",
            "UIO    3661      2     wwww  2382\n",
            "VBNM   3700      2        t  2239\n",
            "Type   3700      2        y  3424\n"
          ]
        }
      ]
    },
    {
      "cell_type": "markdown",
      "source": [
        "We identify the binary and nonbinary categorical features."
      ],
      "metadata": {
        "id": "Fluj_76BmzXu"
      }
    },
    {
      "cell_type": "code",
      "source": [
        "# Initialize an empty list to hold all the binary categorical feature columns' names\n",
        "binary_categorical_features = []\n",
        "\n",
        "# Initialize an empty list to hold all the non-binary categorical feature columns' names\n",
        "nonbinary_categorical_features = []\n",
        "\n",
        "# Loop through all the categorical features to check for binary classes\n",
        "for feature in categorical_features :\n",
        "  if df[feature].nunique() == 2 :\n",
        "    binary_categorical_features.append(feature)\n",
        "  else :\n",
        "    nonbinary_categorical_features.append(feature)\n",
        "\n",
        "print(f'Binary categorical features: {binary_categorical_features}')\n",
        "print(f'Non-binary categorical features: {nonbinary_categorical_features}')"
      ],
      "metadata": {
        "colab": {
          "base_uri": "https://localhost:8080/"
        },
        "id": "Jk-Asq-IiLMU",
        "outputId": "1174625d-338f-4801-e6cd-9b994355b9c8"
      },
      "execution_count": 212,
      "outputs": [
        {
          "output_type": "stream",
          "name": "stdout",
          "text": [
            "Binary categorical features: ['ZUB', 'VOL', 'UIO', 'VBNM']\n",
            "Non-binary categorical features: ['GJAH', 'ZIK', 'HUI', 'ERZ', 'BJZHD', 'BJKG']\n"
          ]
        }
      ]
    },
    {
      "cell_type": "markdown",
      "source": [
        "Let's use the lists created above to reaccommodate the columns so that the numerical features are consecutive to each other and all the categorical features also ordered by their type follow afterwards. This is done in order to have a more clean indexing in further steps."
      ],
      "metadata": {
        "id": "AAAPFtC4O1VZ"
      }
    },
    {
      "cell_type": "code",
      "source": [
        "df_ml = df[[*nonbinary_categorical_features, *binary_categorical_features, *numerical_features, 'Type']]\n",
        "df_ml"
      ],
      "metadata": {
        "colab": {
          "base_uri": "https://localhost:8080/",
          "height": 423
        },
        "id": "Nuxh8E2YM7UZ",
        "outputId": "4aef34f7-9fd2-488a-b2b4-a0f8856ab42b"
      },
      "execution_count": 213,
      "outputs": [
        {
          "output_type": "execute_result",
          "data": {
            "text/plain": [
              "      GJAH      ZIK   HUI   ERZ BJZHD  BJKG ZUB VOL   UIO VBNM  UKL      CDx  \\\n",
              "0     oooo        x  oooo   www  vvvv  qqqq   t   f  uuuu    t  160      5.0   \n",
              "1      rrr  no_info   uuu  pppp   mmm  qqqq   f   f  wwww    f  153      0.0   \n",
              "2     oooo        x  oooo   www    hh    hh   f   f  wwww    t    5     19.0   \n",
              "3     oooo  no_info  oooo   www   kkk   qqq   f   f  uuuu    f    9    120.0   \n",
              "4     oooo        y  oooo   www   mmm  qqqq   t   f  wwww    f   40      0.0   \n",
              "...    ...      ...   ...   ...   ...   ...  ..  ..   ...  ...  ...      ...   \n",
              "3695  oooo        x  oooo   www   sss  qqqq   f   t  uuuu    t   74  26726.0   \n",
              "3696  oooo        x  oooo   www   sss  qqqq   t   t  uuuu    t  179      0.0   \n",
              "3697  oooo  no_info  oooo   www  vvvv  qqqq   t   t  wwww    t   82    221.0   \n",
              "3698  oooo  no_info  oooo   www   yyy  qqqq   t   t  wwww    t   13      3.0   \n",
              "3699  oooo        y  oooo   www   ggg  qqqq   t   t  uuuu    f   57   4000.0   \n",
              "\n",
              "      NKJUD        LPI  POUG    TRE    OIN Type  \n",
              "0      80.0   800000.0     1  1.750  17.92    n  \n",
              "1     200.0  2000000.0     0  0.290  16.92    n  \n",
              "2      96.0   960000.0     1  0.000  31.25    n  \n",
              "3       0.0        0.0     0  0.335  48.17    n  \n",
              "4     232.0  2320000.0     0  0.500  32.33    n  \n",
              "...     ...        ...   ...    ...    ...  ...  \n",
              "3695    NaN        NaN     5  2.710  18.75    y  \n",
              "3696  120.0  1200000.0     5  8.500  23.50    y  \n",
              "3697    0.0        0.0    12  4.500  34.17    y  \n",
              "3698  100.0  1000000.0     5  3.750  27.83    y  \n",
              "3699    0.0        0.0     0  5.000  36.75    y  \n",
              "\n",
              "[3700 rows x 18 columns]"
            ],
            "text/html": [
              "\n",
              "  <div id=\"df-bc11758e-a840-4423-b394-231d06efd8ce\">\n",
              "    <div class=\"colab-df-container\">\n",
              "      <div>\n",
              "<style scoped>\n",
              "    .dataframe tbody tr th:only-of-type {\n",
              "        vertical-align: middle;\n",
              "    }\n",
              "\n",
              "    .dataframe tbody tr th {\n",
              "        vertical-align: top;\n",
              "    }\n",
              "\n",
              "    .dataframe thead th {\n",
              "        text-align: right;\n",
              "    }\n",
              "</style>\n",
              "<table border=\"1\" class=\"dataframe\">\n",
              "  <thead>\n",
              "    <tr style=\"text-align: right;\">\n",
              "      <th></th>\n",
              "      <th>GJAH</th>\n",
              "      <th>ZIK</th>\n",
              "      <th>HUI</th>\n",
              "      <th>ERZ</th>\n",
              "      <th>BJZHD</th>\n",
              "      <th>BJKG</th>\n",
              "      <th>ZUB</th>\n",
              "      <th>VOL</th>\n",
              "      <th>UIO</th>\n",
              "      <th>VBNM</th>\n",
              "      <th>UKL</th>\n",
              "      <th>CDx</th>\n",
              "      <th>NKJUD</th>\n",
              "      <th>LPI</th>\n",
              "      <th>POUG</th>\n",
              "      <th>TRE</th>\n",
              "      <th>OIN</th>\n",
              "      <th>Type</th>\n",
              "    </tr>\n",
              "  </thead>\n",
              "  <tbody>\n",
              "    <tr>\n",
              "      <th>0</th>\n",
              "      <td>oooo</td>\n",
              "      <td>x</td>\n",
              "      <td>oooo</td>\n",
              "      <td>www</td>\n",
              "      <td>vvvv</td>\n",
              "      <td>qqqq</td>\n",
              "      <td>t</td>\n",
              "      <td>f</td>\n",
              "      <td>uuuu</td>\n",
              "      <td>t</td>\n",
              "      <td>160</td>\n",
              "      <td>5.0</td>\n",
              "      <td>80.0</td>\n",
              "      <td>800000.0</td>\n",
              "      <td>1</td>\n",
              "      <td>1.750</td>\n",
              "      <td>17.92</td>\n",
              "      <td>n</td>\n",
              "    </tr>\n",
              "    <tr>\n",
              "      <th>1</th>\n",
              "      <td>rrr</td>\n",
              "      <td>no_info</td>\n",
              "      <td>uuu</td>\n",
              "      <td>pppp</td>\n",
              "      <td>mmm</td>\n",
              "      <td>qqqq</td>\n",
              "      <td>f</td>\n",
              "      <td>f</td>\n",
              "      <td>wwww</td>\n",
              "      <td>f</td>\n",
              "      <td>153</td>\n",
              "      <td>0.0</td>\n",
              "      <td>200.0</td>\n",
              "      <td>2000000.0</td>\n",
              "      <td>0</td>\n",
              "      <td>0.290</td>\n",
              "      <td>16.92</td>\n",
              "      <td>n</td>\n",
              "    </tr>\n",
              "    <tr>\n",
              "      <th>2</th>\n",
              "      <td>oooo</td>\n",
              "      <td>x</td>\n",
              "      <td>oooo</td>\n",
              "      <td>www</td>\n",
              "      <td>hh</td>\n",
              "      <td>hh</td>\n",
              "      <td>f</td>\n",
              "      <td>f</td>\n",
              "      <td>wwww</td>\n",
              "      <td>t</td>\n",
              "      <td>5</td>\n",
              "      <td>19.0</td>\n",
              "      <td>96.0</td>\n",
              "      <td>960000.0</td>\n",
              "      <td>1</td>\n",
              "      <td>0.000</td>\n",
              "      <td>31.25</td>\n",
              "      <td>n</td>\n",
              "    </tr>\n",
              "    <tr>\n",
              "      <th>3</th>\n",
              "      <td>oooo</td>\n",
              "      <td>no_info</td>\n",
              "      <td>oooo</td>\n",
              "      <td>www</td>\n",
              "      <td>kkk</td>\n",
              "      <td>qqq</td>\n",
              "      <td>f</td>\n",
              "      <td>f</td>\n",
              "      <td>uuuu</td>\n",
              "      <td>f</td>\n",
              "      <td>9</td>\n",
              "      <td>120.0</td>\n",
              "      <td>0.0</td>\n",
              "      <td>0.0</td>\n",
              "      <td>0</td>\n",
              "      <td>0.335</td>\n",
              "      <td>48.17</td>\n",
              "      <td>n</td>\n",
              "    </tr>\n",
              "    <tr>\n",
              "      <th>4</th>\n",
              "      <td>oooo</td>\n",
              "      <td>y</td>\n",
              "      <td>oooo</td>\n",
              "      <td>www</td>\n",
              "      <td>mmm</td>\n",
              "      <td>qqqq</td>\n",
              "      <td>t</td>\n",
              "      <td>f</td>\n",
              "      <td>wwww</td>\n",
              "      <td>f</td>\n",
              "      <td>40</td>\n",
              "      <td>0.0</td>\n",
              "      <td>232.0</td>\n",
              "      <td>2320000.0</td>\n",
              "      <td>0</td>\n",
              "      <td>0.500</td>\n",
              "      <td>32.33</td>\n",
              "      <td>n</td>\n",
              "    </tr>\n",
              "    <tr>\n",
              "      <th>...</th>\n",
              "      <td>...</td>\n",
              "      <td>...</td>\n",
              "      <td>...</td>\n",
              "      <td>...</td>\n",
              "      <td>...</td>\n",
              "      <td>...</td>\n",
              "      <td>...</td>\n",
              "      <td>...</td>\n",
              "      <td>...</td>\n",
              "      <td>...</td>\n",
              "      <td>...</td>\n",
              "      <td>...</td>\n",
              "      <td>...</td>\n",
              "      <td>...</td>\n",
              "      <td>...</td>\n",
              "      <td>...</td>\n",
              "      <td>...</td>\n",
              "      <td>...</td>\n",
              "    </tr>\n",
              "    <tr>\n",
              "      <th>3695</th>\n",
              "      <td>oooo</td>\n",
              "      <td>x</td>\n",
              "      <td>oooo</td>\n",
              "      <td>www</td>\n",
              "      <td>sss</td>\n",
              "      <td>qqqq</td>\n",
              "      <td>f</td>\n",
              "      <td>t</td>\n",
              "      <td>uuuu</td>\n",
              "      <td>t</td>\n",
              "      <td>74</td>\n",
              "      <td>26726.0</td>\n",
              "      <td>NaN</td>\n",
              "      <td>NaN</td>\n",
              "      <td>5</td>\n",
              "      <td>2.710</td>\n",
              "      <td>18.75</td>\n",
              "      <td>y</td>\n",
              "    </tr>\n",
              "    <tr>\n",
              "      <th>3696</th>\n",
              "      <td>oooo</td>\n",
              "      <td>x</td>\n",
              "      <td>oooo</td>\n",
              "      <td>www</td>\n",
              "      <td>sss</td>\n",
              "      <td>qqqq</td>\n",
              "      <td>t</td>\n",
              "      <td>t</td>\n",
              "      <td>uuuu</td>\n",
              "      <td>t</td>\n",
              "      <td>179</td>\n",
              "      <td>0.0</td>\n",
              "      <td>120.0</td>\n",
              "      <td>1200000.0</td>\n",
              "      <td>5</td>\n",
              "      <td>8.500</td>\n",
              "      <td>23.50</td>\n",
              "      <td>y</td>\n",
              "    </tr>\n",
              "    <tr>\n",
              "      <th>3697</th>\n",
              "      <td>oooo</td>\n",
              "      <td>no_info</td>\n",
              "      <td>oooo</td>\n",
              "      <td>www</td>\n",
              "      <td>vvvv</td>\n",
              "      <td>qqqq</td>\n",
              "      <td>t</td>\n",
              "      <td>t</td>\n",
              "      <td>wwww</td>\n",
              "      <td>t</td>\n",
              "      <td>82</td>\n",
              "      <td>221.0</td>\n",
              "      <td>0.0</td>\n",
              "      <td>0.0</td>\n",
              "      <td>12</td>\n",
              "      <td>4.500</td>\n",
              "      <td>34.17</td>\n",
              "      <td>y</td>\n",
              "    </tr>\n",
              "    <tr>\n",
              "      <th>3698</th>\n",
              "      <td>oooo</td>\n",
              "      <td>no_info</td>\n",
              "      <td>oooo</td>\n",
              "      <td>www</td>\n",
              "      <td>yyy</td>\n",
              "      <td>qqqq</td>\n",
              "      <td>t</td>\n",
              "      <td>t</td>\n",
              "      <td>wwww</td>\n",
              "      <td>t</td>\n",
              "      <td>13</td>\n",
              "      <td>3.0</td>\n",
              "      <td>100.0</td>\n",
              "      <td>1000000.0</td>\n",
              "      <td>5</td>\n",
              "      <td>3.750</td>\n",
              "      <td>27.83</td>\n",
              "      <td>y</td>\n",
              "    </tr>\n",
              "    <tr>\n",
              "      <th>3699</th>\n",
              "      <td>oooo</td>\n",
              "      <td>y</td>\n",
              "      <td>oooo</td>\n",
              "      <td>www</td>\n",
              "      <td>ggg</td>\n",
              "      <td>qqqq</td>\n",
              "      <td>t</td>\n",
              "      <td>t</td>\n",
              "      <td>uuuu</td>\n",
              "      <td>f</td>\n",
              "      <td>57</td>\n",
              "      <td>4000.0</td>\n",
              "      <td>0.0</td>\n",
              "      <td>0.0</td>\n",
              "      <td>0</td>\n",
              "      <td>5.000</td>\n",
              "      <td>36.75</td>\n",
              "      <td>y</td>\n",
              "    </tr>\n",
              "  </tbody>\n",
              "</table>\n",
              "<p>3700 rows × 18 columns</p>\n",
              "</div>\n",
              "      <button class=\"colab-df-convert\" onclick=\"convertToInteractive('df-bc11758e-a840-4423-b394-231d06efd8ce')\"\n",
              "              title=\"Convert this dataframe to an interactive table.\"\n",
              "              style=\"display:none;\">\n",
              "        \n",
              "  <svg xmlns=\"http://www.w3.org/2000/svg\" height=\"24px\"viewBox=\"0 0 24 24\"\n",
              "       width=\"24px\">\n",
              "    <path d=\"M0 0h24v24H0V0z\" fill=\"none\"/>\n",
              "    <path d=\"M18.56 5.44l.94 2.06.94-2.06 2.06-.94-2.06-.94-.94-2.06-.94 2.06-2.06.94zm-11 1L8.5 8.5l.94-2.06 2.06-.94-2.06-.94L8.5 2.5l-.94 2.06-2.06.94zm10 10l.94 2.06.94-2.06 2.06-.94-2.06-.94-.94-2.06-.94 2.06-2.06.94z\"/><path d=\"M17.41 7.96l-1.37-1.37c-.4-.4-.92-.59-1.43-.59-.52 0-1.04.2-1.43.59L10.3 9.45l-7.72 7.72c-.78.78-.78 2.05 0 2.83L4 21.41c.39.39.9.59 1.41.59.51 0 1.02-.2 1.41-.59l7.78-7.78 2.81-2.81c.8-.78.8-2.07 0-2.86zM5.41 20L4 18.59l7.72-7.72 1.47 1.35L5.41 20z\"/>\n",
              "  </svg>\n",
              "      </button>\n",
              "      \n",
              "  <style>\n",
              "    .colab-df-container {\n",
              "      display:flex;\n",
              "      flex-wrap:wrap;\n",
              "      gap: 12px;\n",
              "    }\n",
              "\n",
              "    .colab-df-convert {\n",
              "      background-color: #E8F0FE;\n",
              "      border: none;\n",
              "      border-radius: 50%;\n",
              "      cursor: pointer;\n",
              "      display: none;\n",
              "      fill: #1967D2;\n",
              "      height: 32px;\n",
              "      padding: 0 0 0 0;\n",
              "      width: 32px;\n",
              "    }\n",
              "\n",
              "    .colab-df-convert:hover {\n",
              "      background-color: #E2EBFA;\n",
              "      box-shadow: 0px 1px 2px rgba(60, 64, 67, 0.3), 0px 1px 3px 1px rgba(60, 64, 67, 0.15);\n",
              "      fill: #174EA6;\n",
              "    }\n",
              "\n",
              "    [theme=dark] .colab-df-convert {\n",
              "      background-color: #3B4455;\n",
              "      fill: #D2E3FC;\n",
              "    }\n",
              "\n",
              "    [theme=dark] .colab-df-convert:hover {\n",
              "      background-color: #434B5C;\n",
              "      box-shadow: 0px 1px 3px 1px rgba(0, 0, 0, 0.15);\n",
              "      filter: drop-shadow(0px 1px 2px rgba(0, 0, 0, 0.3));\n",
              "      fill: #FFFFFF;\n",
              "    }\n",
              "  </style>\n",
              "\n",
              "      <script>\n",
              "        const buttonEl =\n",
              "          document.querySelector('#df-bc11758e-a840-4423-b394-231d06efd8ce button.colab-df-convert');\n",
              "        buttonEl.style.display =\n",
              "          google.colab.kernel.accessAllowed ? 'block' : 'none';\n",
              "\n",
              "        async function convertToInteractive(key) {\n",
              "          const element = document.querySelector('#df-bc11758e-a840-4423-b394-231d06efd8ce');\n",
              "          const dataTable =\n",
              "            await google.colab.kernel.invokeFunction('convertToInteractive',\n",
              "                                                     [key], {});\n",
              "          if (!dataTable) return;\n",
              "\n",
              "          const docLinkHtml = 'Like what you see? Visit the ' +\n",
              "            '<a target=\"_blank\" href=https://colab.research.google.com/notebooks/data_table.ipynb>data table notebook</a>'\n",
              "            + ' to learn more about interactive tables.';\n",
              "          element.innerHTML = '';\n",
              "          dataTable['output_type'] = 'display_data';\n",
              "          await google.colab.output.renderOutput(dataTable, element);\n",
              "          const docLink = document.createElement('div');\n",
              "          docLink.innerHTML = docLinkHtml;\n",
              "          element.appendChild(docLink);\n",
              "        }\n",
              "      </script>\n",
              "    </div>\n",
              "  </div>\n",
              "  "
            ]
          },
          "metadata": {},
          "execution_count": 213
        }
      ]
    },
    {
      "cell_type": "markdown",
      "source": [
        "We get the indexes of all the groups of features since it will be useful for indexing them per type later."
      ],
      "metadata": {
        "id": "Udt6XYwrbYHL"
      }
    },
    {
      "cell_type": "code",
      "source": [
        "# Get the indexes of all the categorical features columns\n",
        "categorical_indexes = [df_ml.columns.get_loc(feature) for feature in categorical_features]\n",
        "\n",
        "# Get the indexes of the binary categorical features columns\n",
        "binary_categorical_indexes = [df_ml.columns.get_loc(feature) for feature in binary_categorical_features]\n",
        "\n",
        "# Get the indexes of the nonbinary categorical features columns\n",
        "nonbinary_categorical_indexes = [df_ml.columns.get_loc(feature) for feature in nonbinary_categorical_features]\n",
        "\n",
        "# Get the indexes of the binary categorical features columns\n",
        "numerical_indexes = [df_ml.columns.get_loc(feature) for feature in numerical_features]\n",
        "\n",
        "print(f\"Categorical features' indexes: {categorical_indexes}\")\n",
        "print(f\"Non-binary categorical features' indexes: {nonbinary_categorical_indexes}\")\n",
        "print(f\"Binary categorical features' indexes: {binary_categorical_indexes}\")\n",
        "print(f\"Numerical features' indexes: {numerical_indexes}\")"
      ],
      "metadata": {
        "colab": {
          "base_uri": "https://localhost:8080/"
        },
        "id": "z5WLdEecdQ8o",
        "outputId": "60df18f6-3b64-4456-c862-55c855b40fd4"
      },
      "execution_count": 214,
      "outputs": [
        {
          "output_type": "stream",
          "name": "stdout",
          "text": [
            "Categorical features' indexes: [0, 1, 2, 3, 4, 5, 6, 7, 8, 9]\n",
            "Non-binary categorical features' indexes: [0, 1, 2, 3, 4, 5]\n",
            "Binary categorical features' indexes: [6, 7, 8, 9]\n",
            "Numerical features' indexes: [10, 11, 12, 13, 14, 15, 16]\n"
          ]
        }
      ]
    },
    {
      "cell_type": "markdown",
      "source": [
        "### Split for Cross-Validation"
      ],
      "metadata": {
        "id": "W9F0gtAXZ9QM"
      }
    },
    {
      "cell_type": "markdown",
      "source": [
        "We extract a feature matrix *X* and a dependent variable vector *y*."
      ],
      "metadata": {
        "id": "tXPWpZXcQOd_"
      }
    },
    {
      "cell_type": "code",
      "source": [
        "# Split the Dependent Variable (y) from the Independent Variables (X)\n",
        "\n",
        "X = df_ml.iloc[:, :-1].values # features matrix 'X'\n",
        "y = df_ml.iloc[:, -1].values  # dependent variable vector 'y'"
      ],
      "metadata": {
        "id": "Jh3FAS39ONnM"
      },
      "execution_count": 215,
      "outputs": []
    },
    {
      "cell_type": "code",
      "source": [
        "# Verify matrix 'X'\n",
        "X[0:5,:]"
      ],
      "metadata": {
        "colab": {
          "base_uri": "https://localhost:8080/"
        },
        "id": "aoItYf4xQo3Z",
        "outputId": "877e5bd9-0f09-4495-dea1-9e4a8bc9cce9"
      },
      "execution_count": 216,
      "outputs": [
        {
          "output_type": "execute_result",
          "data": {
            "text/plain": [
              "array([['oooo', 'x', 'oooo', 'www', 'vvvv', 'qqqq', 't', 'f', 'uuuu',\n",
              "        't', 160, 5.0, 80.0, 800000.0, 1, 1.75, 17.92],\n",
              "       ['rrr', 'no_info', 'uuu', 'pppp', 'mmm', 'qqqq', 'f', 'f', 'wwww',\n",
              "        'f', 153, 0.0, 200.0, 2000000.0, 0, 0.29, 16.92],\n",
              "       ['oooo', 'x', 'oooo', 'www', 'hh', 'hh', 'f', 'f', 'wwww', 't', 5,\n",
              "        19.0, 96.0, 960000.0, 1, 0.0, 31.25],\n",
              "       ['oooo', 'no_info', 'oooo', 'www', 'kkk', 'qqq', 'f', 'f', 'uuuu',\n",
              "        'f', 9, 120.0, 0.0, 0.0, 0, 0.335, 48.17],\n",
              "       ['oooo', 'y', 'oooo', 'www', 'mmm', 'qqqq', 't', 'f', 'wwww', 'f',\n",
              "        40, 0.0, 232.0, 2320000.0, 0, 0.5, 32.33]], dtype=object)"
            ]
          },
          "metadata": {},
          "execution_count": 216
        }
      ]
    },
    {
      "cell_type": "code",
      "source": [
        "# Verify vector 'y'\n",
        "y"
      ],
      "metadata": {
        "colab": {
          "base_uri": "https://localhost:8080/"
        },
        "id": "4h4tkqxVQvIB",
        "outputId": "70c6bdfc-f792-4573-9c50-b5a5cfa8ef3f"
      },
      "execution_count": 217,
      "outputs": [
        {
          "output_type": "execute_result",
          "data": {
            "text/plain": [
              "array(['n', 'n', 'n', ..., 'y', 'y', 'y'], dtype=object)"
            ]
          },
          "metadata": {},
          "execution_count": 217
        }
      ]
    },
    {
      "cell_type": "markdown",
      "source": [
        "Split the Dataset Into the Training Test and Test Set\n",
        "\n",
        "[Train Test Split Documentation](https://scikit-learn.org/stable/modules/generated/sklearn.model_selection.train_test_split.html)\n",
        "\n",
        "The Train-Test split follows a stratified approach.\n",
        "\n",
        "*Stratified train-test split* is a technique used in machine learning to split a dataset into training and testing sets while maintaining the same class distribution or proportion of classes in both sets. This is particularly useful when dealing with imbalanced datasets, where the distribution of classes is unequal.\n",
        "\n",
        "The stratified train-test split ensures that each class is represented in both the training and testing sets in roughly the same proportion as the original dataset. This helps to ensure that the model is trained and evaluated on representative samples from each class, which can lead to more reliable performance evaluation.\n",
        "\n",
        "The process of performing a stratified train-test split involves the following steps:\n",
        "\n",
        "1. Identify the feature column that represents the class labels or target variable.\n",
        "2. Use the train_test_split function from the scikit-learn library with the parameter `stratify` set to the class labels column.\n",
        "3. Specify the desired test set size or the proportion of the dataset to be allocated for testing."
      ],
      "metadata": {
        "id": "eSiSPdjcaGLL"
      }
    },
    {
      "cell_type": "code",
      "source": [
        "X_train, X_test, y_train, y_test = train_test_split(X, y, test_size = 0.2, random_state = 1, stratify=y)"
      ],
      "metadata": {
        "id": "J_v5zB8XAyZI"
      },
      "execution_count": 218,
      "outputs": []
    },
    {
      "cell_type": "markdown",
      "source": [
        "### Missing Values\n",
        "\n",
        "[Simple Imputer Documentation](https://vitalflux.com/imputing-missing-data-sklearn-simpleimputer/)"
      ],
      "metadata": {
        "id": "4UDyU_LYWvn1"
      }
    },
    {
      "cell_type": "markdown",
      "source": [
        "**Numerical Data**\n",
        "\n",
        "For **numerical** data an imputer based on the **mean** value of the training set will be used."
      ],
      "metadata": {
        "id": "bAmvwIRfZVOW"
      }
    },
    {
      "cell_type": "code",
      "source": [
        "# Create an instance of the Simple Imputer class for numerical data\n",
        "imputer_numerical = SimpleImputer(missing_values=np.nan, strategy='mean')"
      ],
      "metadata": {
        "id": "zWxWFYfvWv7V"
      },
      "execution_count": 219,
      "outputs": []
    },
    {
      "cell_type": "code",
      "source": [
        "# Verify the columns to be filled\n",
        "X_test[15:25, numerical_indexes[0]:]"
      ],
      "metadata": {
        "colab": {
          "base_uri": "https://localhost:8080/"
        },
        "id": "fMYcRYRxasv_",
        "outputId": "708ce2c4-a136-4868-a888-fa31ea6b27c0"
      },
      "execution_count": 220,
      "outputs": [
        {
          "output_type": "execute_result",
          "data": {
            "text/plain": [
              "array([[48, 300.0, 311.0, 3110000.0, 3, 6.04, 31.92],\n",
              "       [129, 247.0, 0.0, 0.0, 15, 0.0, 56.5],\n",
              "       [158, 960.0, 100.0, 1000000.0, 0, 0.0, 46.0],\n",
              "       [62, 3257.0, 129.0, 1290000.0, 7, 2.585, 22.42],\n",
              "       [143, 15.0, 0.0, 0.0, 40, 28.5, 56.42],\n",
              "       [139, 100000.0, 450.0, 4500000.0, 0, 0.0, 17.5],\n",
              "       [157, 500.0, 380.0, 3800000.0, 4, 0.54, 29.5],\n",
              "       [101, 3000.0, 0.0, 0.0, 11, 1.0, 17.83],\n",
              "       [122, 500.0, 487.0, 4870000.0, 0, 5.75, 27.67],\n",
              "       [12, 8.0, 150.0, 1500000.0, 0, 1.5, 21.25]], dtype=object)"
            ]
          },
          "metadata": {},
          "execution_count": 220
        }
      ]
    },
    {
      "cell_type": "code",
      "source": [
        "# Fit and transform the numerical data of the training set\n",
        "X_train[:, numerical_indexes[0]:] = imputer_numerical.fit_transform(X_train[:, numerical_indexes[0]:])\n",
        "# Only transform the data of the test set\n",
        "X_test[:, numerical_indexes[0]:] = imputer_numerical.transform(X_test[:, numerical_indexes[0]:])"
      ],
      "metadata": {
        "id": "CarCqq-PZ2KO"
      },
      "execution_count": 221,
      "outputs": []
    },
    {
      "cell_type": "code",
      "source": [
        "# Verify the columns look correct\n",
        "X_test[15:25, numerical_indexes[0]:]"
      ],
      "metadata": {
        "colab": {
          "base_uri": "https://localhost:8080/"
        },
        "id": "tn45MWD0fpDX",
        "outputId": "9ca4c81d-3b7e-43e0-f1fe-364220166e35"
      },
      "execution_count": 222,
      "outputs": [
        {
          "output_type": "execute_result",
          "data": {
            "text/plain": [
              "array([[48.0, 300.0, 311.0, 3110000.0, 3.0, 6.04, 31.92],\n",
              "       [129.0, 247.0, 0.0, 0.0, 15.0, 0.0, 56.5],\n",
              "       [158.0, 960.0, 100.0, 1000000.0, 0.0, 0.0, 46.0],\n",
              "       [62.0, 3257.0, 129.0, 1290000.0, 7.0, 2.585, 22.42],\n",
              "       [143.0, 15.0, 0.0, 0.0, 40.0, 28.5, 56.42],\n",
              "       [139.0, 100000.0, 450.0, 4500000.0, 0.0, 0.0, 17.5],\n",
              "       [157.0, 500.0, 380.0, 3800000.0, 4.0, 0.54, 29.5],\n",
              "       [101.0, 3000.0, 0.0, 0.0, 11.0, 1.0, 17.83],\n",
              "       [122.0, 500.0, 487.0, 4870000.0, 0.0, 5.75, 27.67],\n",
              "       [12.0, 8.0, 150.0, 1500000.0, 0.0, 1.5, 21.25]], dtype=object)"
            ]
          },
          "metadata": {},
          "execution_count": 222
        }
      ]
    },
    {
      "cell_type": "markdown",
      "source": [
        "**Categorical Data**\n",
        "\n",
        "For **categorical** data an imputer based on the **mode** value of the training set will be used."
      ],
      "metadata": {
        "id": "Dx0aWK5YZV9H"
      }
    },
    {
      "cell_type": "code",
      "source": [
        "# Create an instance of the Simple Imputer class for categorical data\n",
        "imputer_categorical = SimpleImputer(missing_values=np.nan, strategy='most_frequent')"
      ],
      "metadata": {
        "id": "SwenAyG7XzcG"
      },
      "execution_count": 223,
      "outputs": []
    },
    {
      "cell_type": "code",
      "source": [
        "# Verify the columns to be filled\n",
        "X_test[15:25, :numerical_indexes[0]]"
      ],
      "metadata": {
        "colab": {
          "base_uri": "https://localhost:8080/"
        },
        "id": "0CkAlz32uxWF",
        "outputId": "e7508cdf-0b27-47e6-b7f4-9a167551ad74"
      },
      "execution_count": 224,
      "outputs": [
        {
          "output_type": "execute_result",
          "data": {
            "text/plain": [
              "array([['oooo', 'no_info', 'oooo', 'www', 'ee', 'hhhh', 'f', 't', 'wwww',\n",
              "        't'],\n",
              "       ['oooo', 'x', 'oooo', 'www', 'lll', 'hh', 'f', 't', 'uuuu', 't'],\n",
              "       ['oooo', 'no_info', 'oooo', 'www', 'lll', 'lll', 'f', 't', 'uuuu',\n",
              "        'f'],\n",
              "       ['oooo', 'x', 'oooo', 'www', 'sss', 'qqqq', 'f', 't', 'uuuu', 't'],\n",
              "       ['rrr', 'x', 'oooo', 'pppp', 'vvvv', 'qqqq', 'f', 't', 'wwww',\n",
              "        't'],\n",
              "       ['ii', 'y', 'rrr', 'nnn', 'hh', 'qqq', 't', 'f', 'wwww', 'f'],\n",
              "       ['oooo', 'no_info', 'oooo', 'www', 'mmm', 'qqqq', 'f', 't',\n",
              "        'uuuu', 't'],\n",
              "       ['oooo', 'no_info', 'oooo', 'www', 'zzz', 'hhhh', 'f', 't',\n",
              "        'uuuu', 't'],\n",
              "       ['oooo', 'no_info', 'oooo', 'www', 'yyy', 'qqqq', 't', 't',\n",
              "        'wwww', 'f'],\n",
              "       ['oooo', 'no_info', 'oooo', 'www', 'yyy', 'qqqq', 'f', 'f',\n",
              "        'wwww', 'f']], dtype=object)"
            ]
          },
          "metadata": {},
          "execution_count": 224
        }
      ]
    },
    {
      "cell_type": "code",
      "source": [
        "# Fit and transform the categorical data of the training set\n",
        "X_train[:, :numerical_indexes[0]] = imputer_categorical.fit_transform(X_train[:, :numerical_indexes[0]])\n",
        "\n",
        "# Only transform the data of the test set\n",
        "X_test[:, :numerical_indexes[0]] = imputer_categorical.transform(X_test[:, :numerical_indexes[0]])"
      ],
      "metadata": {
        "id": "oZeQ5O6lhWwz"
      },
      "execution_count": 225,
      "outputs": []
    },
    {
      "cell_type": "code",
      "source": [
        "# Verify the columns look correct\n",
        "X_test[15:25, :numerical_indexes[0]]"
      ],
      "metadata": {
        "colab": {
          "base_uri": "https://localhost:8080/"
        },
        "id": "HIumxBqrxbSe",
        "outputId": "68b005bb-c5fc-4e32-8312-bd8d01eff4f4"
      },
      "execution_count": 226,
      "outputs": [
        {
          "output_type": "execute_result",
          "data": {
            "text/plain": [
              "array([['oooo', 'no_info', 'oooo', 'www', 'ee', 'hhhh', 'f', 't', 'wwww',\n",
              "        't'],\n",
              "       ['oooo', 'x', 'oooo', 'www', 'lll', 'hh', 'f', 't', 'uuuu', 't'],\n",
              "       ['oooo', 'no_info', 'oooo', 'www', 'lll', 'lll', 'f', 't', 'uuuu',\n",
              "        'f'],\n",
              "       ['oooo', 'x', 'oooo', 'www', 'sss', 'qqqq', 'f', 't', 'uuuu', 't'],\n",
              "       ['rrr', 'x', 'oooo', 'pppp', 'vvvv', 'qqqq', 'f', 't', 'wwww',\n",
              "        't'],\n",
              "       ['ii', 'y', 'rrr', 'nnn', 'hh', 'qqq', 't', 'f', 'wwww', 'f'],\n",
              "       ['oooo', 'no_info', 'oooo', 'www', 'mmm', 'qqqq', 'f', 't',\n",
              "        'uuuu', 't'],\n",
              "       ['oooo', 'no_info', 'oooo', 'www', 'zzz', 'hhhh', 'f', 't',\n",
              "        'uuuu', 't'],\n",
              "       ['oooo', 'no_info', 'oooo', 'www', 'yyy', 'qqqq', 't', 't',\n",
              "        'wwww', 'f'],\n",
              "       ['oooo', 'no_info', 'oooo', 'www', 'yyy', 'qqqq', 'f', 'f',\n",
              "        'wwww', 'f']], dtype=object)"
            ]
          },
          "metadata": {},
          "execution_count": 226
        }
      ]
    },
    {
      "cell_type": "markdown",
      "source": [
        "### Encode Categorical Variables"
      ],
      "metadata": {
        "id": "BkUGj6RaOMPY"
      }
    },
    {
      "cell_type": "markdown",
      "source": [
        "#### Label Encode Binary Categories"
      ],
      "metadata": {
        "id": "m9eKZSvSrnNo"
      }
    },
    {
      "cell_type": "code",
      "source": [
        "# Create an instance of the Label Encoder class\n",
        "le = LabelEncoder()"
      ],
      "metadata": {
        "id": "a28Oymrx8Mn2"
      },
      "execution_count": 227,
      "outputs": []
    },
    {
      "cell_type": "markdown",
      "source": [
        "Label Encode the Dependent Variable"
      ],
      "metadata": {
        "id": "kHu0OkKf98yc"
      }
    },
    {
      "cell_type": "code",
      "source": [
        "# Label encode the dependent variable\n",
        "y_train = le.fit_transform(y_train)\n",
        "y_test = le.transform(y_test)\n",
        "print(f'Encoded vector y: {y_train}')"
      ],
      "metadata": {
        "colab": {
          "base_uri": "https://localhost:8080/"
        },
        "id": "Zw3_fs_oUBUq",
        "outputId": "b98f4d40-f43d-46d9-db65-b9577965b23d"
      },
      "execution_count": 228,
      "outputs": [
        {
          "output_type": "stream",
          "name": "stdout",
          "text": [
            "Encoded vector y: [0 1 1 ... 1 1 1]\n"
          ]
        }
      ]
    },
    {
      "cell_type": "markdown",
      "source": [
        "Label Encode the Binary Categorical Features"
      ],
      "metadata": {
        "id": "sPwmZ_oTr3kw"
      }
    },
    {
      "cell_type": "code",
      "source": [
        "# Check not transformed binary categorical features\n",
        "X_train[:, binary_categorical_indexes[0]:numerical_indexes[0]]"
      ],
      "metadata": {
        "colab": {
          "base_uri": "https://localhost:8080/"
        },
        "id": "FEqdwSG5CpqM",
        "outputId": "2c8af765-34e6-4476-f196-50d24c8519a8"
      },
      "execution_count": 229,
      "outputs": [
        {
          "output_type": "execute_result",
          "data": {
            "text/plain": [
              "array([['f', 't', 'wwww', 'f'],\n",
              "       ['f', 't', 'wwww', 't'],\n",
              "       ['t', 't', 'wwww', 't'],\n",
              "       ...,\n",
              "       ['t', 'f', 'wwww', 'f'],\n",
              "       ['t', 't', 'wwww', 't'],\n",
              "       ['f', 't', 'uuuu', 'f']], dtype=object)"
            ]
          },
          "metadata": {},
          "execution_count": 229
        }
      ]
    },
    {
      "cell_type": "code",
      "source": [
        "# Apply label encoding to the specified columns\n",
        "for index in binary_categorical_indexes:\n",
        "    X_train[:, index] = le.fit_transform(X_train[:, index])\n",
        "    X_test[:, index] = le.transform(X_test[:, index])"
      ],
      "metadata": {
        "id": "rQ8LSJL-rqS4"
      },
      "execution_count": 230,
      "outputs": []
    },
    {
      "cell_type": "code",
      "source": [
        "# Verify label encoding of binary categorical features\n",
        "X_train[:, binary_categorical_indexes[0]:numerical_indexes[0]]"
      ],
      "metadata": {
        "colab": {
          "base_uri": "https://localhost:8080/"
        },
        "id": "DiKwqeH90SzT",
        "outputId": "bf05ccc7-aeaf-44d2-824f-3244a88dc1a9"
      },
      "execution_count": 231,
      "outputs": [
        {
          "output_type": "execute_result",
          "data": {
            "text/plain": [
              "array([[0, 1, 1, 0],\n",
              "       [0, 1, 1, 1],\n",
              "       [1, 1, 1, 1],\n",
              "       ...,\n",
              "       [1, 0, 1, 0],\n",
              "       [1, 1, 1, 1],\n",
              "       [0, 1, 0, 0]], dtype=object)"
            ]
          },
          "metadata": {},
          "execution_count": 231
        }
      ]
    },
    {
      "cell_type": "markdown",
      "source": [
        "#### One-hot Encode Non-binary Categories\n",
        "\n",
        "Convert non-binary categorical data to binary vectors"
      ],
      "metadata": {
        "id": "e3KAa_g378F2"
      }
    },
    {
      "cell_type": "code",
      "source": [
        "# Create an instance of the ColumnTransformer class with a OneHotEncoder as transformer\n",
        "ct = ColumnTransformer(transformers=[('encoder', OneHotEncoder(), nonbinary_categorical_indexes)], remainder='passthrough')"
      ],
      "metadata": {
        "id": "K4-h5vhH2tR_"
      },
      "execution_count": 232,
      "outputs": []
    },
    {
      "cell_type": "code",
      "source": [
        "# Check not transformed non-binary categorical features\n",
        "X_train[:, :binary_categorical_indexes[0]]"
      ],
      "metadata": {
        "colab": {
          "base_uri": "https://localhost:8080/"
        },
        "id": "SURd8lWDChQE",
        "outputId": "1a2b04b0-2ace-4724-9d11-b4cafe0e0186"
      },
      "execution_count": 233,
      "outputs": [
        {
          "output_type": "execute_result",
          "data": {
            "text/plain": [
              "array([['oooo', 'no_info', 'oooo', 'www', 'vvvv', 'qqqq'],\n",
              "       ['oooo', 'x', 'oooo', 'www', 'yyy', 'hhhh'],\n",
              "       ['oooo', 'x', 'oooo', 'www', 'zzz', 'qqqq'],\n",
              "       ...,\n",
              "       ['oooo', 'no_info', 'oooo', 'www', 'vvvv', 'hhhh'],\n",
              "       ['oooo', 'no_info', 'oooo', 'www', 'ooo', 'hhhh'],\n",
              "       ['oooo', 'no_info', 'oooo', 'www', 'ee', 'qqqq']], dtype=object)"
            ]
          },
          "metadata": {},
          "execution_count": 233
        }
      ]
    },
    {
      "cell_type": "code",
      "source": [
        "# Apply OneHotEncoding to all the non-binary categorical features\n",
        "X_train = np.array(ct.fit_transform(X_train))\n",
        "X_test = np.array(ct.transform(X_test))"
      ],
      "metadata": {
        "id": "U4Re8D_-_0Is"
      },
      "execution_count": 234,
      "outputs": []
    },
    {
      "cell_type": "code",
      "source": [
        "# Print the first 5 rows of Independent Variables to verify One-Hot Encoding\n",
        "X_train[0:5,:]"
      ],
      "metadata": {
        "colab": {
          "base_uri": "https://localhost:8080/"
        },
        "id": "5ALQx9R1BvM0",
        "outputId": "dc84b419-bb37-4aca-8166-e97b340a4718"
      },
      "execution_count": 235,
      "outputs": [
        {
          "output_type": "execute_result",
          "data": {
            "text/plain": [
              "array([[0.0, 1.0, 0.0, 1.0, 0.0, 0.0, 1.0, 0.0, 0.0, 0.0, 0.0, 1.0, 0.0,\n",
              "        0.0, 0.0, 0.0, 0.0, 0.0, 0.0, 0.0, 1.0, 0.0, 0.0, 0.0, 0.0, 0.0,\n",
              "        0.0, 0.0, 0.0, 0.0, 1.0, 0.0, 0, 1, 1, 0, 89.0, 0.0, 140.0,\n",
              "        1400000.0, 0.0, 0.25, 21.5],\n",
              "       [0.0, 1.0, 0.0, 0.0, 1.0, 0.0, 1.0, 0.0, 0.0, 0.0, 0.0, 1.0, 0.0,\n",
              "        0.0, 0.0, 0.0, 0.0, 0.0, 0.0, 0.0, 0.0, 0.0, 1.0, 0.0, 0.0, 0.0,\n",
              "        1.0, 0.0, 0.0, 0.0, 0.0, 0.0, 0, 1, 1, 1, 68.0, 2954.0, 80.0,\n",
              "        800000.0, 7.0, 1.46, 19.42],\n",
              "       [0.0, 1.0, 0.0, 0.0, 1.0, 0.0, 1.0, 0.0, 0.0, 0.0, 0.0, 1.0, 0.0,\n",
              "        0.0, 0.0, 0.0, 0.0, 0.0, 0.0, 0.0, 0.0, 0.0, 0.0, 1.0, 0.0, 0.0,\n",
              "        0.0, 0.0, 0.0, 0.0, 1.0, 0.0, 1, 1, 1, 1, 175.0, 3290.0, 303.0,\n",
              "        3030000.0, 8.0, 1.335, 31.67],\n",
              "       [0.0, 0.0, 1.0, 1.0, 0.0, 0.0, 1.0, 0.0, 0.0, 0.0, 1.0, 0.0, 0.0,\n",
              "        0.0, 0.0, 0.0, 0.0, 0.0, 0.0, 1.0, 0.0, 0.0, 0.0, 0.0, 0.0, 0.0,\n",
              "        0.0, 0.0, 0.0, 0.0, 1.0, 0.0, 1, 1, 0, 1, 172.0, 400.0, 80.0,\n",
              "        800000.0, 2.0, 1.5, 23.42],\n",
              "       [0.0, 1.0, 0.0, 1.0, 0.0, 0.0, 1.0, 0.0, 0.0, 0.0, 0.0, 1.0, 0.0,\n",
              "        0.0, 0.0, 0.0, 0.0, 0.0, 0.0, 0.0, 1.0, 0.0, 0.0, 0.0, 0.0, 0.0,\n",
              "        0.0, 0.0, 0.0, 0.0, 1.0, 0.0, 0, 0, 1, 0, 166.0, 0.0, 100.0,\n",
              "        1000000.0, 0.0, 0.165, 23.92]], dtype=object)"
            ]
          },
          "metadata": {},
          "execution_count": 235
        }
      ]
    },
    {
      "cell_type": "markdown",
      "source": [
        "### Feature Scaling"
      ],
      "metadata": {
        "id": "dmvdDRtt59vg"
      }
    },
    {
      "cell_type": "code",
      "source": [
        "# Create an instance of the StandardScaler class\n",
        "sc = StandardScaler()"
      ],
      "metadata": {
        "id": "K9MEyA_b9Cmg"
      },
      "execution_count": 236,
      "outputs": []
    },
    {
      "cell_type": "code",
      "source": [
        "# Check first 5 rows of non-scaled numerical features\n",
        "X_train[:5, -len(numerical_features):]"
      ],
      "metadata": {
        "colab": {
          "base_uri": "https://localhost:8080/"
        },
        "id": "wcGHReCF-SNw",
        "outputId": "783943f5-fe03-4e5f-96e9-e65baf297c4b"
      },
      "execution_count": 237,
      "outputs": [
        {
          "output_type": "execute_result",
          "data": {
            "text/plain": [
              "array([[89.0, 0.0, 140.0, 1400000.0, 0.0, 0.25, 21.5],\n",
              "       [68.0, 2954.0, 80.0, 800000.0, 7.0, 1.46, 19.42],\n",
              "       [175.0, 3290.0, 303.0, 3030000.0, 8.0, 1.335, 31.67],\n",
              "       [172.0, 400.0, 80.0, 800000.0, 2.0, 1.5, 23.42],\n",
              "       [166.0, 0.0, 100.0, 1000000.0, 0.0, 0.165, 23.92]], dtype=object)"
            ]
          },
          "metadata": {},
          "execution_count": 237
        }
      ]
    },
    {
      "cell_type": "code",
      "source": [
        "# Apply OneHotEncoding to all the numerical features\n",
        "\n",
        "# Just fit the training set since we don´t want the test set to be calculated in the mean and std dev\n",
        "X_train[:5, -len(numerical_features):] = sc.fit_transform(X_train[:5, -len(numerical_features):])\n",
        "X_test[:5, -len(numerical_features):] = sc.transform(X_test[:5, -len(numerical_features):])"
      ],
      "metadata": {
        "id": "iNinQ0Et6EcQ"
      },
      "execution_count": 238,
      "outputs": []
    },
    {
      "cell_type": "code",
      "source": [
        "# Verify first 5 rows of scaled numerical features\n",
        "X_train[:5, -len(numerical_features):]"
      ],
      "metadata": {
        "colab": {
          "base_uri": "https://localhost:8080/"
        },
        "id": "fTptfpt46Ej4",
        "outputId": "8c3c152c-f4b0-4892-890c-28b7494d5812"
      },
      "execution_count": 239,
      "outputs": [
        {
          "output_type": "execute_result",
          "data": {
            "text/plain": [
              "array([[-0.9805806756909202, -0.900734650340596, -0.0071340461323727965,\n",
              "        -0.007134046132372864, -0.9881049293224639, -1.1480106122332192,\n",
              "        -0.5980486213956744],\n",
              "       [-1.4381849910133495, 1.101651078968646, -0.7205386593696592,\n",
              "        -0.7205386593696593, 1.0462287486943735, 0.8593489843017451,\n",
              "        -1.0984271944057313],\n",
              "       [0.8934179489628384, 1.3294105932028726, 1.9309484864955888,\n",
              "        1.9309484864955886, 1.3368478455539217, 0.6519771251555712,\n",
              "        1.8485139206775387],\n",
              "       [0.828045903916777, -0.6295923714903263, -0.7205386593696592,\n",
              "        -0.7205386593696593, -0.40686673560336745, 0.9257079792285209,\n",
              "        -0.1361607078479288],\n",
              "       [0.6973018138246544, -0.900734650340596, -0.4827371216238971,\n",
              "        -0.48273712162389715, -0.9881049293224639, -1.2890234764526176,\n",
              "        -0.01587739702820349]], dtype=object)"
            ]
          },
          "metadata": {},
          "execution_count": 239
        }
      ]
    },
    {
      "cell_type": "markdown",
      "source": [
        "## Classification Modelling"
      ],
      "metadata": {
        "id": "sG8_IuPfgdYV"
      }
    },
    {
      "cell_type": "markdown",
      "source": [
        "### Pre-modeling Analysis"
      ],
      "metadata": {
        "id": "ntAhchuwKYnr"
      }
    },
    {
      "cell_type": "code",
      "source": [
        "# Get the shape of the fully encoded matrix\n",
        "print(f'The fully encoded feature matrix has {X_train.shape[1]} features and {X_train.shape[0]} instances.')"
      ],
      "metadata": {
        "colab": {
          "base_uri": "https://localhost:8080/"
        },
        "id": "iB3raSc9D4GM",
        "outputId": "a242b17b-3486-4355-ba6c-35b943ddab06"
      },
      "execution_count": 240,
      "outputs": [
        {
          "output_type": "stream",
          "name": "stdout",
          "text": [
            "The fully encoded feature matrix has 43 features and 2960 instances.\n"
          ]
        }
      ]
    },
    {
      "cell_type": "markdown",
      "source": [
        "Given the final fully processed feature matrix with the dimensions stated above, we can proceed to do predictive analysis in the next section."
      ],
      "metadata": {
        "id": "SGmwmvBI4iWX"
      }
    },
    {
      "cell_type": "markdown",
      "source": [
        "The feature matrices used for predictive analysis look as the following."
      ],
      "metadata": {
        "id": "V5EIackCBMDG"
      }
    },
    {
      "cell_type": "code",
      "source": [
        "# Print the first 3 rows of the training set feature matrix\n",
        "X_train[0:3,:]"
      ],
      "metadata": {
        "colab": {
          "base_uri": "https://localhost:8080/"
        },
        "id": "LjbBmnLmArNp",
        "outputId": "4fe657f3-4e5a-4f58-ca01-c8f88ed86e71"
      },
      "execution_count": 241,
      "outputs": [
        {
          "output_type": "execute_result",
          "data": {
            "text/plain": [
              "array([[0.0, 1.0, 0.0, 1.0, 0.0, 0.0, 1.0, 0.0, 0.0, 0.0, 0.0, 1.0, 0.0,\n",
              "        0.0, 0.0, 0.0, 0.0, 0.0, 0.0, 0.0, 1.0, 0.0, 0.0, 0.0, 0.0, 0.0,\n",
              "        0.0, 0.0, 0.0, 0.0, 1.0, 0.0, 0, 1, 1, 0, -0.9805806756909202,\n",
              "        -0.900734650340596, -0.0071340461323727965,\n",
              "        -0.007134046132372864, -0.9881049293224639, -1.1480106122332192,\n",
              "        -0.5980486213956744],\n",
              "       [0.0, 1.0, 0.0, 0.0, 1.0, 0.0, 1.0, 0.0, 0.0, 0.0, 0.0, 1.0, 0.0,\n",
              "        0.0, 0.0, 0.0, 0.0, 0.0, 0.0, 0.0, 0.0, 0.0, 1.0, 0.0, 0.0, 0.0,\n",
              "        1.0, 0.0, 0.0, 0.0, 0.0, 0.0, 0, 1, 1, 1, -1.4381849910133495,\n",
              "        1.101651078968646, -0.7205386593696592, -0.7205386593696593,\n",
              "        1.0462287486943735, 0.8593489843017451, -1.0984271944057313],\n",
              "       [0.0, 1.0, 0.0, 0.0, 1.0, 0.0, 1.0, 0.0, 0.0, 0.0, 0.0, 1.0, 0.0,\n",
              "        0.0, 0.0, 0.0, 0.0, 0.0, 0.0, 0.0, 0.0, 0.0, 0.0, 1.0, 0.0, 0.0,\n",
              "        0.0, 0.0, 0.0, 0.0, 1.0, 0.0, 1, 1, 1, 1, 0.8934179489628384,\n",
              "        1.3294105932028726, 1.9309484864955888, 1.9309484864955886,\n",
              "        1.3368478455539217, 0.6519771251555712, 1.8485139206775387]],\n",
              "      dtype=object)"
            ]
          },
          "metadata": {},
          "execution_count": 241
        }
      ]
    },
    {
      "cell_type": "code",
      "source": [
        "# Print the first 3 rows of the test set feature matrix\n",
        "X_test[0:3,:]"
      ],
      "metadata": {
        "colab": {
          "base_uri": "https://localhost:8080/"
        },
        "id": "nTBdH4fqBCO5",
        "outputId": "febadb58-ad88-4289-af64-594783f0813a"
      },
      "execution_count": 242,
      "outputs": [
        {
          "output_type": "execute_result",
          "data": {
            "text/plain": [
              "array([[0.0, 0.0, 1.0, 0.0, 0.0, 1.0, 1.0, 0.0, 0.0, 0.0, 1.0, 0.0, 0.0,\n",
              "        0.0, 0.0, 0.0, 0.0, 0.0, 0.0, 0.0, 1.0, 0.0, 0.0, 0.0, 0.0, 0.0,\n",
              "        0.0, 0.0, 0.0, 0.0, 1.0, 0.0, 1, 0, 1, 0, 0.2179068168202045,\n",
              "        -0.8241369565653948, 1.0867530274981332, 1.086753027498133,\n",
              "        -0.9881049293224639, 0.9257079792285209, 3.0705923586059476],\n",
              "       [0.0, 1.0, 0.0, 0.0, 1.0, 0.0, 1.0, 0.0, 0.0, 0.0, 0.0, 1.0, 0.0,\n",
              "        0.0, 0.0, 0.0, 0.0, 0.0, 0.0, 0.0, 1.0, 0.0, 0.0, 0.0, 0.0, 0.0,\n",
              "        1.0, 0.0, 0.0, 0.0, 0.0, 0.0, 0, 1, 0, 1, 0.5883484054145521,\n",
              "        -0.900734650340596, -0.4827371216238971, -0.48273712162389715,\n",
              "        -0.40686673560336745, 0.9257079792285209, -1.9620613660913595],\n",
              "       [0.0, 1.0, 0.0, 0.0, 0.0, 1.0, 1.0, 0.0, 0.0, 0.0, 0.0, 1.0, 0.0,\n",
              "        0.0, 1.0, 0.0, 0.0, 0.0, 0.0, 0.0, 0.0, 0.0, 0.0, 0.0, 0.0, 1.0,\n",
              "        0.0, 0.0, 0.0, 0.0, 0.0, 0.0, 1, 1, 1, 0, -0.0435813633640409,\n",
              "        -0.900734650340596, -1.6717448103527077, -1.671744810352708,\n",
              "        -0.9881049293224639, -1.5627543305255673, 11.892170374124602]],\n",
              "      dtype=object)"
            ]
          },
          "metadata": {},
          "execution_count": 242
        }
      ]
    },
    {
      "cell_type": "markdown",
      "source": [
        "Before modelling, an auxiliary function is defined to print more efficiently some significiant performance metrics for the binary classification task."
      ],
      "metadata": {
        "id": "5UluDYhXFSVg"
      }
    },
    {
      "cell_type": "code",
      "source": [
        "###########################################################################################################\n",
        "\"\"\"\n",
        "    This function prints a summary of relevant performance metrics for the challenge's classification task.\n",
        "    --\n",
        "    In:\n",
        "        * y_test: Dependent variable labels for the test set.\n",
        "        * y_pred: Predicted values for the dependent variables.\n",
        "    Out:\n",
        "        * void\n",
        "\"\"\"\n",
        "###########################################################################################################\n",
        "\n",
        "def evaluate_classifier(y_test, y_pred) :\n",
        "\n",
        "  # Set display names to match the predicted variable 'Type' labels\n",
        "  target_names = ['n', 'y']\n",
        "\n",
        "  # Print a Classification report with several relevant metric scores per label\n",
        "  print('Performance metrics summary:\\n')\n",
        "  print(classification_report(y_test, y_pred, target_names=target_names, digits=3))\n",
        "\n",
        "  # Display the Confusion Matrix\n",
        "  print('Confusion Matrix:\\n')\n",
        "  ConfusionMatrixDisplay.from_predictions(y_test, y_pred, display_labels=target_names)\n",
        "  plt.show()"
      ],
      "metadata": {
        "id": "gB5BMrLNy82q"
      },
      "execution_count": 243,
      "outputs": []
    },
    {
      "cell_type": "markdown",
      "source": [
        "An auxiliary function for plotting the class distribution of a categorial variable is also created."
      ],
      "metadata": {
        "id": "IxWXTDagwizo"
      }
    },
    {
      "cell_type": "code",
      "source": [
        "###########################################################################################################\n",
        "\"\"\"\n",
        "    This function plots the distribution of the labels for a categorical feature.\n",
        "    --\n",
        "    In:\n",
        "        * y: Feature vector.\n",
        "    Out:\n",
        "        * void\n",
        "\"\"\"\n",
        "###########################################################################################################\n",
        "\n",
        "def plot_class_distribution(y) :\n",
        "\n",
        "  # Get the instances count per unique class\n",
        "  unique, counts = np.unique(y, return_counts=True)\n",
        "  unique_count = dict(zip(unique, counts))\n",
        "\n",
        "  # Get the plotting data as lists\n",
        "  names = list(unique_count.keys())\n",
        "  values = list(unique_count.values())\n",
        "\n",
        "  # Display the distribution graph\n",
        "  plt.bar(range(len(unique_count)), values, tick_label=names)\n",
        "  plt.show()"
      ],
      "metadata": {
        "id": "pFVng9L_wBKQ"
      },
      "execution_count": 244,
      "outputs": []
    },
    {
      "cell_type": "markdown",
      "source": [
        "As we noticed before in the Data Analysis section, the dependent variable label distribution is quite imbalanced so we plot it directly to strenghten the point that some measures have to be taken to consider this in the model selection."
      ],
      "metadata": {
        "id": "cdZS061PzuuS"
      }
    },
    {
      "cell_type": "code",
      "source": [
        "# Plot distribution of dependent variable labels in training set\n",
        "plot_class_distribution(y_train)"
      ],
      "metadata": {
        "colab": {
          "base_uri": "https://localhost:8080/",
          "height": 430
        },
        "id": "T4JLma7oxmIi",
        "outputId": "279f6b12-e4de-47ab-c9c2-c04cb5d61f86"
      },
      "execution_count": 245,
      "outputs": [
        {
          "output_type": "display_data",
          "data": {
            "text/plain": [
              "<Figure size 640x480 with 1 Axes>"
            ],
            "image/png": "[encoded data removed]"
          },
          "metadata": {}
        }
      ]
    },
    {
      "cell_type": "markdown",
      "source": [
        "### Single Predictors"
      ],
      "metadata": {
        "id": "GkcJcoLy9Yby"
      }
    },
    {
      "cell_type": "markdown",
      "source": [
        "Let's evaluate a couple of simple predictors first.\n",
        "\n",
        "These predictors were chosen since they have characteristics that can help when dealing with an imbalanced predicted class.\n",
        "\n",
        "* In SVM (Support Vector Machine), you can adjust the cost parameter (C) to penalize misclassifications of the minority class more.\n",
        "* In Decision Trees you can set the `class_weight` parameter to give more weight to the minority class."
      ],
      "metadata": {
        "id": "76xlOxxCBbSS"
      }
    },
    {
      "cell_type": "markdown",
      "source": [
        "#### Support Vector Machine Classifier"
      ],
      "metadata": {
        "id": "klDJLp0IT1tF"
      }
    },
    {
      "cell_type": "markdown",
      "source": [
        "Baseline Ensemble Model experimentation with RBF kernel."
      ],
      "metadata": {
        "id": "bOnsmCvtV-l0"
      }
    },
    {
      "cell_type": "code",
      "source": [
        "# Create a SVM Classifier, fit the training data and predict 'y'\n",
        "svm_classifier = SVC(kernel = 'rbf', random_state = 1, gamma=0.1, C=1)\n",
        "svm_classifier.fit(X_train, y_train)\n",
        "y_pred_svm = svm_classifier.predict(X_test)\n",
        "\n",
        "# Evaluate its performance\n",
        "evaluate_classifier(y_test, y_pred_svm)"
      ],
      "metadata": {
        "colab": {
          "base_uri": "https://localhost:8080/",
          "height": 686
        },
        "id": "4QKkY7lSUYb-",
        "outputId": "8ce7b10c-6287-4970-8d9d-67ef0cbd966e"
      },
      "execution_count": 246,
      "outputs": [
        {
          "output_type": "stream",
          "name": "stdout",
          "text": [
            "Performance metrics summary:\n",
            "\n",
            "              precision    recall  f1-score   support\n",
            "\n",
            "           n      0.982     0.982     0.982        55\n",
            "           y      0.999     0.999     0.999       685\n",
            "\n",
            "    accuracy                          0.997       740\n",
            "   macro avg      0.990     0.990     0.990       740\n",
            "weighted avg      0.997     0.997     0.997       740\n",
            "\n",
            "Confusion Matrix:\n",
            "\n"
          ]
        },
        {
          "output_type": "display_data",
          "data": {
            "text/plain": [
              "<Figure size 640x480 with 2 Axes>"
            ],
            "image/png": "[encoded data removed]"
          },
          "metadata": {}
        }
      ]
    },
    {
      "cell_type": "markdown",
      "source": [
        "Experiment with parameters C and gamma for a SVM classifier with an RBF kernel."
      ],
      "metadata": {
        "id": "8OI1Xw-zWEkx"
      }
    },
    {
      "cell_type": "code",
      "source": [
        "# Create a SVM Classifier\n",
        "svm_classifier = SVC(random_state = 0, kernel = 'rbf')\n",
        "\n",
        "# Define a parameter grid for grid search\n",
        "svm_param_grid = {\n",
        "    'C': [1, 10, 100],\n",
        "    'gamma': [0.1, 1, 10]\n",
        "}\n",
        "\n",
        "# Perform grid search\n",
        "svm_grid_search = GridSearchCV(estimator=svm_classifier, param_grid=svm_param_grid, cv=5)\n",
        "svm_grid_search.fit(X_train, y_train)\n",
        "print(f'Best parameters found:\\n{svm_grid_search.best_params_}\\n')\n",
        "\n",
        "# Predict 'y'\n",
        "y_pred = svm_grid_search.predict(X_test)\n",
        "\n",
        "# Evaluate its performance\n",
        "evaluate_classifier(y_test, y_pred)"
      ],
      "metadata": {
        "colab": {
          "base_uri": "https://localhost:8080/",
          "height": 741
        },
        "id": "0N2rb7UsWFLg",
        "outputId": "47951bab-4061-4cd8-d87f-e1c0f44ff9c0"
      },
      "execution_count": 247,
      "outputs": [
        {
          "output_type": "stream",
          "name": "stdout",
          "text": [
            "Best parameters found:\n",
            "{'C': 10, 'gamma': 0.1}\n",
            "\n",
            "Performance metrics summary:\n",
            "\n",
            "              precision    recall  f1-score   support\n",
            "\n",
            "           n      0.982     0.982     0.982        55\n",
            "           y      0.999     0.999     0.999       685\n",
            "\n",
            "    accuracy                          0.997       740\n",
            "   macro avg      0.990     0.990     0.990       740\n",
            "weighted avg      0.997     0.997     0.997       740\n",
            "\n",
            "Confusion Matrix:\n",
            "\n"
          ]
        },
        {
          "output_type": "display_data",
          "data": {
            "text/plain": [
              "<Figure size 640x480 with 2 Axes>"
            ],
            "image/png": "[encoded data removed]"
          },
          "metadata": {}
        }
      ]
    },
    {
      "cell_type": "markdown",
      "source": [
        "#### Decision Tree Classifier"
      ],
      "metadata": {
        "id": "iyPYuLheTk1z"
      }
    },
    {
      "cell_type": "markdown",
      "source": [
        "Baseline Ensemble Model experimentation."
      ],
      "metadata": {
        "id": "sCBVlbX4V9fE"
      }
    },
    {
      "cell_type": "code",
      "source": [
        "# Create a Decision Tree Classifier, fit the training data and predict 'y'\n",
        "dt_classifier = DecisionTreeClassifier(criterion = 'gini', random_state = 0)\n",
        "dt_classifier.fit(X_train, y_train)\n",
        "y_pred = dt_classifier.predict(X_test)\n",
        "\n",
        "# Evaluate its performance\n",
        "evaluate_classifier(y_test, y_pred)"
      ],
      "metadata": {
        "colab": {
          "base_uri": "https://localhost:8080/",
          "height": 686
        },
        "id": "Pwcxq8bQFSwP",
        "outputId": "9a66345a-9b37-4f1e-d996-614947ce091c"
      },
      "execution_count": 248,
      "outputs": [
        {
          "output_type": "stream",
          "name": "stdout",
          "text": [
            "Performance metrics summary:\n",
            "\n",
            "              precision    recall  f1-score   support\n",
            "\n",
            "           n      0.958     0.836     0.893        55\n",
            "           y      0.987     0.997     0.992       685\n",
            "\n",
            "    accuracy                          0.985       740\n",
            "   macro avg      0.973     0.917     0.943       740\n",
            "weighted avg      0.985     0.985     0.985       740\n",
            "\n",
            "Confusion Matrix:\n",
            "\n"
          ]
        },
        {
          "output_type": "display_data",
          "data": {
            "text/plain": [
              "<Figure size 640x480 with 2 Axes>"
            ],
            "image/png": "[encoded data removed]"
          },
          "metadata": {}
        }
      ]
    },
    {
      "cell_type": "markdown",
      "source": [
        "Explicit Grid Search parameter experimentation."
      ],
      "metadata": {
        "id": "bAMPT6ZkUmmj"
      }
    },
    {
      "cell_type": "code",
      "source": [
        "# Create a Decision Tree Classifier\n",
        "dt_classifier = DecisionTreeClassifier(random_state = 0)\n",
        "\n",
        "# Define a parameter grid for the grid search\n",
        "dt_param_grid = {\n",
        "    'criterion': [\"gini\", \"entropy\"],\n",
        "    'class_weight': [\"balanced\", None]}\n",
        "\n",
        "# Perform grid search\n",
        "dt_grid_search = GridSearchCV(estimator=dt_classifier, param_grid=dt_param_grid, cv=5)\n",
        "dt_grid_search.fit(X_train, y_train)\n",
        "print(f'Best parameters found:\\n{dt_grid_search.best_params_}\\n')\n",
        "\n",
        "# Predict 'y'\n",
        "y_pred = dt_grid_search.predict(X_test)\n",
        "\n",
        "# Evaluate its performance\n",
        "evaluate_classifier(y_test, y_pred)"
      ],
      "metadata": {
        "colab": {
          "base_uri": "https://localhost:8080/",
          "height": 741
        },
        "id": "OliIdS6wOuyo",
        "outputId": "82e55862-3cee-4e26-d123-12bca53fccc5"
      },
      "execution_count": 249,
      "outputs": [
        {
          "output_type": "stream",
          "name": "stdout",
          "text": [
            "Best parameters found:\n",
            "{'class_weight': 'balanced', 'criterion': 'gini'}\n",
            "\n",
            "Performance metrics summary:\n",
            "\n",
            "              precision    recall  f1-score   support\n",
            "\n",
            "           n      0.958     0.836     0.893        55\n",
            "           y      0.987     0.997     0.992       685\n",
            "\n",
            "    accuracy                          0.985       740\n",
            "   macro avg      0.973     0.917     0.943       740\n",
            "weighted avg      0.985     0.985     0.985       740\n",
            "\n",
            "Confusion Matrix:\n",
            "\n"
          ]
        },
        {
          "output_type": "display_data",
          "data": {
            "text/plain": [
              "<Figure size 640x480 with 2 Axes>"
            ],
            "image/png": "[encoded data removed]"
          },
          "metadata": {}
        }
      ]
    },
    {
      "cell_type": "markdown",
      "source": [
        "Assigning weights to the labels appears in the tuple of best parameters, however, the confusion matrix remains the same as in the default unweighted approach."
      ],
      "metadata": {
        "id": "R6UVNSVsTHkv"
      }
    },
    {
      "cell_type": "markdown",
      "source": [
        "### Ensemble Methods"
      ],
      "metadata": {
        "id": "ATKX921ypBWs"
      }
    },
    {
      "cell_type": "markdown",
      "source": [
        "The SVM classifier performs way to good so now let's use the power of a couple of tree-based ensemble methods that have built-in options to handle class imbalance to see if we can improve the performance of a tree-based algorithm for the sake of science.\n",
        "\n",
        "In tree-based algorithms like **Random Forest** or **XGBoost**, you can set the `class_weight` and the `scale_pos_weight` parameter respectively to give more weight to the minority class."
      ],
      "metadata": {
        "id": "xBVDZLwgYbWM"
      }
    },
    {
      "cell_type": "markdown",
      "source": [
        "#### Random Forest Classifier\n",
        "\n",
        "[Random Forest Classifier Documentation](https://scikit-learn.org/stable/modules/generated/sklearn.ensemble.RandomForestClassifier.html)"
      ],
      "metadata": {
        "id": "-15te_7KW_Ac"
      }
    },
    {
      "cell_type": "markdown",
      "source": [
        "Baseline Ensemble Model experimentation."
      ],
      "metadata": {
        "id": "gJ9ZoEacXFee"
      }
    },
    {
      "cell_type": "code",
      "source": [
        "# Create a Random Forest Classifier, fit the training data and predict 'y'\n",
        "rf_classifier = RandomForestClassifier(n_estimators = 90, criterion = 'entropy', random_state = 0)\n",
        "rf_classifier.fit(X_train, y_train)\n",
        "y_pred = rf_classifier.predict(X_test)\n",
        "\n",
        "# Evaluate its performance\n",
        "evaluate_classifier(y_test, y_pred)"
      ],
      "metadata": {
        "colab": {
          "base_uri": "https://localhost:8080/",
          "height": 686
        },
        "id": "tawzqNgCgg-l",
        "outputId": "21e86b41-8987-49b3-f741-07f72001bb48"
      },
      "execution_count": 250,
      "outputs": [
        {
          "output_type": "stream",
          "name": "stdout",
          "text": [
            "Performance metrics summary:\n",
            "\n",
            "              precision    recall  f1-score   support\n",
            "\n",
            "           n      0.979     0.836     0.902        55\n",
            "           y      0.987     0.999     0.993       685\n",
            "\n",
            "    accuracy                          0.986       740\n",
            "   macro avg      0.983     0.917     0.947       740\n",
            "weighted avg      0.986     0.986     0.986       740\n",
            "\n",
            "Confusion Matrix:\n",
            "\n"
          ]
        },
        {
          "output_type": "display_data",
          "data": {
            "text/plain": [
              "<Figure size 640x480 with 2 Axes>"
            ],
            "image/png": "[encoded data removed]"
          },
          "metadata": {}
        }
      ]
    },
    {
      "cell_type": "markdown",
      "source": [
        "Explicit Grid Search parameter experimentation."
      ],
      "metadata": {
        "id": "uyqdUn8qXLPs"
      }
    },
    {
      "cell_type": "code",
      "source": [
        "# Create a Random Forest Classifier\n",
        "rf_classifier = RandomForestClassifier(criterion = 'entropy', random_state = 0)\n",
        "\n",
        "# Define a parameter grid for the grid search\n",
        "rf_param_grid = {\n",
        "    'n_estimators': [60, 90, 120, 150, 180],\n",
        "    #'max_depth' : [5, 10, 15, None],\n",
        "    #'max_features':[\"sqrt\", \"log2\"],\n",
        "    #'criterion': [\"gini\", \"entropy\"],\n",
        "    'class_weight': [None, \"balanced\", \"balanced_subsample\"]}\n",
        "\n",
        "# Perform grid search\n",
        "rf_grid_search = GridSearchCV(estimator=rf_classifier, param_grid=rf_param_grid, cv=5)\n",
        "rf_grid_search.fit(X_train, y_train)\n",
        "print(f'Best parameters found:\\n{rf_grid_search.best_params_}\\n')\n",
        "\n",
        "# Predict 'y'\n",
        "y_pred = rf_grid_search.predict(X_test)\n",
        "\n",
        "# Evaluate its performance\n",
        "evaluate_classifier(y_test, y_pred)"
      ],
      "metadata": {
        "colab": {
          "base_uri": "https://localhost:8080/",
          "height": 741
        },
        "id": "__CkEO1NThEM",
        "outputId": "bfb2e7cd-2218-4353-ce74-aa51cff11fa7"
      },
      "execution_count": 251,
      "outputs": [
        {
          "output_type": "stream",
          "name": "stdout",
          "text": [
            "Best parameters found:\n",
            "{'class_weight': None, 'n_estimators': 180}\n",
            "\n",
            "Performance metrics summary:\n",
            "\n",
            "              precision    recall  f1-score   support\n",
            "\n",
            "           n      0.979     0.836     0.902        55\n",
            "           y      0.987     0.999     0.993       685\n",
            "\n",
            "    accuracy                          0.986       740\n",
            "   macro avg      0.983     0.917     0.947       740\n",
            "weighted avg      0.986     0.986     0.986       740\n",
            "\n",
            "Confusion Matrix:\n",
            "\n"
          ]
        },
        {
          "output_type": "display_data",
          "data": {
            "text/plain": [
              "<Figure size 640x480 with 2 Axes>"
            ],
            "image/png": "[encoded data removed]"
          },
          "metadata": {}
        }
      ]
    },
    {
      "cell_type": "markdown",
      "source": [
        "After several grid search experimentats we can conclude that assigning weights to each label following Sci-kit learns built-in weight balancing proposals does not do much difference in performance for the Random Forest classifier model."
      ],
      "metadata": {
        "id": "ybOR0jmBF9gB"
      }
    },
    {
      "cell_type": "markdown",
      "source": [
        "#### XGBoost\n",
        "\n",
        "[XGBoost Documentation](https://xgboost.readthedocs.io/en/stable/parameter.html)"
      ],
      "metadata": {
        "id": "w0lBSEvmVvXZ"
      }
    },
    {
      "cell_type": "markdown",
      "source": [
        "Set the label weight parameter to consider the imbalanced dependend variable classes."
      ],
      "metadata": {
        "id": "ems8n_rr6pXP"
      }
    },
    {
      "cell_type": "code",
      "source": [
        "# Count the number of positive and negative examples in the target variable\n",
        "num_positive = sum(y_train == 1)\n",
        "num_negative = sum(y_train == 0)\n",
        "\n",
        "# Set the scale_pos_weight parameter just as XGBoost documentation recommends\n",
        "scale_pos_weight = num_negative / num_positive\n",
        "scale_pos_weight"
      ],
      "metadata": {
        "colab": {
          "base_uri": "https://localhost:8080/"
        },
        "id": "JjcAPXM7y7IL",
        "outputId": "4556d567-dec5-468c-f583-c145da1bbea2"
      },
      "execution_count": 252,
      "outputs": [
        {
          "output_type": "execute_result",
          "data": {
            "text/plain": [
              "0.08068638189120117"
            ]
          },
          "metadata": {},
          "execution_count": 252
        }
      ]
    },
    {
      "cell_type": "markdown",
      "source": [
        "Baseline Ensemble Model experimentation."
      ],
      "metadata": {
        "id": "6kEevSyvXdgG"
      }
    },
    {
      "cell_type": "code",
      "source": [
        "# Create a XGBoost Classifier, fit the training data and predict 'y'\n",
        "xg_classifier = XGBClassifier(scale_pos_weight=scale_pos_weight)\n",
        "xg_classifier.fit(X_train, y_train)\n",
        "y_pred = xg_classifier.predict(X_test)\n",
        "\n",
        "# Evaluate its performance\n",
        "evaluate_classifier(y_test, y_pred)"
      ],
      "metadata": {
        "colab": {
          "base_uri": "https://localhost:8080/",
          "height": 686
        },
        "id": "Pe_054LWPlVH",
        "outputId": "432c4c28-c4a5-4004-df4a-6b38d733e859"
      },
      "execution_count": 253,
      "outputs": [
        {
          "output_type": "stream",
          "name": "stdout",
          "text": [
            "Performance metrics summary:\n",
            "\n",
            "              precision    recall  f1-score   support\n",
            "\n",
            "           n      0.958     0.836     0.893        55\n",
            "           y      0.987     0.997     0.992       685\n",
            "\n",
            "    accuracy                          0.985       740\n",
            "   macro avg      0.973     0.917     0.943       740\n",
            "weighted avg      0.985     0.985     0.985       740\n",
            "\n",
            "Confusion Matrix:\n",
            "\n"
          ]
        },
        {
          "output_type": "display_data",
          "data": {
            "text/plain": [
              "<Figure size 640x480 with 2 Axes>"
            ],
            "image/png": "[encoded data removed]"
          },
          "metadata": {}
        }
      ]
    },
    {
      "cell_type": "markdown",
      "source": [
        "Explicit Grid Search parameter experimentation."
      ],
      "metadata": {
        "id": "y1USuzfKXhEt"
      }
    },
    {
      "cell_type": "code",
      "source": [
        "# Create a XGBoost Classifier\n",
        "xg_classifier = XGBClassifier(scale_pos_weight=scale_pos_weight)\n",
        "\n",
        "# Define a parameter grid for the grid search\n",
        "xg_param_grid = {\n",
        "    'max_depth': [10, 20, None],\n",
        "    #'learning_rate': [0.1, 0.01, 0.001],\n",
        "    'n_estimators': [50, 100, 200]\n",
        "}\n",
        "\n",
        "# Perform grid search\n",
        "xg_grid_search = GridSearchCV(estimator=xg_classifier, param_grid=xg_param_grid, cv=5)\n",
        "xg_grid_search.fit(X_train, y_train)\n",
        "print(f'Best parameters found:\\n{xg_grid_search.best_params_}\\n')\n",
        "\n",
        "# Predict 'y'\n",
        "y_pred = xg_grid_search.predict(X_test)\n",
        "\n",
        "# Evaluate its performance\n",
        "evaluate_classifier(y_test, y_pred)"
      ],
      "metadata": {
        "colab": {
          "base_uri": "https://localhost:8080/",
          "height": 741
        },
        "id": "BkiaudAb7-9A",
        "outputId": "c5d79832-60d6-4bec-9ed0-691fd755298f"
      },
      "execution_count": 254,
      "outputs": [
        {
          "output_type": "stream",
          "name": "stdout",
          "text": [
            "Best parameters found:\n",
            "{'max_depth': 10, 'n_estimators': 50}\n",
            "\n",
            "Performance metrics summary:\n",
            "\n",
            "              precision    recall  f1-score   support\n",
            "\n",
            "           n      0.979     0.836     0.902        55\n",
            "           y      0.987     0.999     0.993       685\n",
            "\n",
            "    accuracy                          0.986       740\n",
            "   macro avg      0.983     0.917     0.947       740\n",
            "weighted avg      0.986     0.986     0.986       740\n",
            "\n",
            "Confusion Matrix:\n",
            "\n"
          ]
        },
        {
          "output_type": "display_data",
          "data": {
            "text/plain": [
              "<Figure size 640x480 with 2 Axes>"
            ],
            "image/png": "[encoded data removed]"
          },
          "metadata": {}
        }
      ]
    },
    {
      "cell_type": "markdown",
      "source": [
        "Both ensemble methods improve the single decision tree performance to a minimum degree but are still far from the excellent metrics obtained by the SVM classifier."
      ],
      "metadata": {
        "id": "-O5FcyPU_qff"
      }
    },
    {
      "cell_type": "markdown",
      "source": [
        "## Concluding Remarks"
      ],
      "metadata": {
        "id": "L1o5yDZIlEAP"
      }
    },
    {
      "cell_type": "markdown",
      "source": [
        "SVM classifier was the winner of this small classification contest, so we remember its performance metrics!"
      ],
      "metadata": {
        "id": "kTi20kIr3Ryv"
      }
    },
    {
      "cell_type": "code",
      "source": [
        "# Print again the performance metris of the best classifier\n",
        "print('Best Classifier: SVM Classifier\\n')\n",
        "evaluate_classifier(y_test, y_pred_svm)"
      ],
      "metadata": {
        "colab": {
          "base_uri": "https://localhost:8080/",
          "height": 723
        },
        "id": "mnQWqe0hlNbW",
        "outputId": "2f208276-0fcc-4211-a9da-d5570fc69a84"
      },
      "execution_count": 255,
      "outputs": [
        {
          "output_type": "stream",
          "name": "stdout",
          "text": [
            "Best Classifier: SVM Classifier\n",
            "\n",
            "Performance metrics summary:\n",
            "\n",
            "              precision    recall  f1-score   support\n",
            "\n",
            "           n      0.982     0.982     0.982        55\n",
            "           y      0.999     0.999     0.999       685\n",
            "\n",
            "    accuracy                          0.997       740\n",
            "   macro avg      0.990     0.990     0.990       740\n",
            "weighted avg      0.997     0.997     0.997       740\n",
            "\n",
            "Confusion Matrix:\n",
            "\n"
          ]
        },
        {
          "output_type": "display_data",
          "data": {
            "text/plain": [
              "<Figure size 640x480 with 2 Axes>"
            ],
            "image/png": "[encoded data removed]"
          },
          "metadata": {}
        }
      ]
    },
    {
      "cell_type": "markdown",
      "source": [
        "A simple SVM classifier can be extremely well performant and a fast computing solution for a binary classification task with imbalanced classes when chosen the right kernel followed by a proper tuning of c and Ɣ to handle the bias-variance tradeoff. Decision Trees are also decent at handling the class imbalance with weight-balancing. However, even though ensemble methods such as Random Forest and XGBoost were applied to the base tree predictor they did not seem to significantly increase the overall tree-based performance and were still far from the best SVM metrics.\n",
        "\n",
        "Further work may include more advanced imbalanced classes handling techniques, such as undersampling, oversampling (SMOTE) or generation of synthetic samples and testing more models, such as logistic regression, ensemble methods with SVM predictors as base learners and neural network classifiers along with more robust hyperparameter tuning processes.\n"
      ],
      "metadata": {
        "id": "jISHOS6EvXp_"
      }
    }
  ]
}